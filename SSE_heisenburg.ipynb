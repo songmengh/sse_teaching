{
  "cells": [
    {
      "cell_type": "markdown",
      "metadata": {
        "id": "kUIgLktc8xie"
      },
      "source": [
        "# Stochastic Series Expansion (SSE) on spin-1/2 Heisenberg antiferromagnet"
      ]
    },
    {
      "cell_type": "markdown",
      "metadata": {
        "id": "rgj6pH6u8X8-"
      },
      "source": [
        "This is an simple code adopted from [Prof. Anders W. Sandvik](https://physics.bu.edu/~sandvik/) for simulating the Heisenberg model on square lattice. To understand the following content in this notebook, we assume you understand the basic in Monte Carlo simulation and quantum statistical mechanics. For the original source of the note, you can click [here](https://physics.bu.edu/~sandvik/programs/ssebasic/ssebasic.html)."
      ]
    },
    {
      "cell_type": "markdown",
      "metadata": {
        "id": "r5nXSdo94dMw"
      },
      "source": [
        "### Background knowledge in Statistical mechanices"
      ]
    },
    {
      "cell_type": "markdown",
      "metadata": {
        "id": "tleIr6Fw8X9C"
      },
      "source": [
        "Denote $\\psi$ as one of the possible configuration of the model. The i) average of certain function $f$ and ii) partition function are as follow,\n",
        "\n",
        "$$ \\langle f \\rangle = \\frac{1}{Z} \\sum f(\\psi) W(\\psi) $$\n",
        "$$ Z = \\sum_{\\{ \\psi \\}} W(\\psi) $$\n",
        "\n",
        "where $W(\\psi)$ is the weight of the configuration $\\psi$ and $\\{ \\psi \\}$ denote the set of all possible configurations of the model."
      ]
    },
    {
      "cell_type": "markdown",
      "metadata": {
        "id": "EQ5guItB8X9F"
      },
      "source": [
        " If the model follows Maxwell-Boltzmann distribution, $W(\\psi) = e^{- \\beta E(\\psi)}$, where $\\beta = \\frac{1}{T}$ is the inverse of temperature."
      ]
    },
    {
      "cell_type": "markdown",
      "metadata": {
        "id": "ZPFGkUay8X9H"
      },
      "source": [
        "Then, by consider the Taylor expansion of the $e^{- \\beta E(\\psi)}$ in the average expression,\n",
        "\n",
        "$$e^{- \\beta E(\\psi)} = \\sum_{n}^{\\infty} \\frac{(- \\beta E(\\psi) )^n}{n!}$$\n",
        "\n",
        "we can rewrite the $\\langle f \\rangle$ and $Z$ as,\n",
        "\n",
        "$$ \\langle f \\rangle = \\frac{1}{Z} \\sum_{n}^{\\infty} \\sum_{\\{ \\psi \\} } f(\\psi)  \\frac{(- \\beta E(\\psi) )^n}{n!} $$\n",
        "\n",
        "$$ Z = \\sum_{n}^{\\infty} \\sum_{\\{ \\psi \\} } \\frac{(- \\beta E(\\psi) )^n}{n!} $$"
      ]
    },
    {
      "cell_type": "markdown",
      "metadata": {
        "id": "GvyCa1sr8X9J"
      },
      "source": [
        "We are now sampling not only in the space $\\{ \\psi \\}$, but in the space $\\{ (\\psi,n) \\}$, which includes an extra dimension $n$ (the expansion order n) for us to visit in simulation (i.e. we are not only sampling the configuration in the simulation, but we are sampling both the confiugration and the expansion order in the simulation).\n",
        "\n",
        "With this modifcation, we need to guarantee that the terms $ \\frac{(- \\beta E(\\psi) )^n }{n!} $ need to be positive (i.e. **weight or probability cannot be a negative number**.)\n",
        "\n",
        "Therefore, we define a new weight to be used for sampling in this configuration space as,\n",
        "\n",
        "$$W(\\psi, n) = \\frac{\\beta^n [\\epsilon - E(\\psi) ]^n}{n!}$$\n",
        "\n",
        "we can choose a suitable constant $\\epsilon$ so that $\\epsilon - E(\\psi) > 0$"
      ]
    },
    {
      "cell_type": "markdown",
      "metadata": {
        "id": "QiXYOZE38X9L"
      },
      "source": [
        "Define $H(\\psi) = \\epsilon - E(\\psi)$. With this defintion, the weight $W(\\psi, n)$ can be rewritten as,\n",
        "\n",
        "$$W(\\psi, n) = \\frac{\\beta^n [H(\\psi)]^n}{n!}$$\n",
        "\n",
        "The expectation of $\\langle H(\\psi) \\rangle$ and partition function $Z$ can then be written as,\n",
        "\n",
        "$$\\langle H \\rangle = \\frac{1}{Z} \\sum_{n}^{\\infty} \\sum_{ \\{ \\psi \\} } H(\\psi) W(\\psi,n)  $$\n",
        "\n",
        "$$Z = \\sum_{n}^{\\infty} \\sum_{\\{ \\psi \\} } W(\\psi,n) $$\n"
      ]
    },
    {
      "cell_type": "markdown",
      "metadata": {
        "id": "_lKuBO5a8X9N"
      },
      "source": [
        "Below comes the **main idea of SSE**: we can get the $\\langle H \\rangle$ by sampling the $\\langle n \\rangle$ (i.e. the expansion order). The reason behind is that **$H$ can be written as 1 of the term of $W(\\psi,1)$ and $\\beta$**.\n",
        "\n",
        "Consider only the terms in the nominator of $\\langle H \\rangle$ expression,\n",
        "\n",
        "$$\\sum_{n}^{\\infty} \\sum_{ \\{ \\psi \\} } H(\\psi) W(\\psi,n)$$\n",
        "\n",
        "\\begin{align*}\n",
        "    \\sum_{n}^{\\infty} \\sum_{ \\{ \\psi \\} } H(\\psi) W(\\psi,n) &= \\sum_{n}^{\\infty} \\sum_{ \\{ \\psi \\} } W(\\psi,1) W(\\psi,n) \\\\\n",
        "    &= \\sum_{n}^{\\infty} \\sum_{ \\{ \\psi \\} } \\frac{\\beta [H(\\psi)]}{1} \\frac{\\beta^n [H(\\psi)]^n}{n!} \\\\\n",
        "    &= \\sum_{n}^{\\infty} \\sum_{ \\{ \\psi \\} } \\frac{n+1}{\\beta} \\frac{\\beta^{n+1} [H(\\psi)]^{n+1}}{(n+1)!} \\\\\n",
        "    &= \\sum_{n}^{\\infty} \\sum_{ \\{ \\psi \\} } \\frac{n+1}{\\beta} W(\\psi, n+1) \\\\\n",
        "    &= \\frac{1}{\\beta} \\sum_{m}^{\\infty} \\sum_{ \\{ \\psi \\} } m W(\\psi, m)   \\text{            (Let n+1 = m)}\n",
        "    \\end{align*}\n",
        "\n",
        "With the result above, the $\\langle H \\rangle$ can be written as,\n",
        "\n",
        "$$\\langle H \\rangle = \\frac{1}{\\beta} \\left( \\frac{1}{Z}  \\sum_{n}^{\\infty} \\sum_{ \\{ \\psi \\} } n W(\\psi, n) \\right) = \\frac{1}{\\beta} \\langle n \\rangle_W$$\n",
        "\n",
        "(Why can we arrive the last result? By comparing the 2nd last expression and the standard average formula of $\\langle f \\rangle$, you will know it. And you might notice I change $m$ to $n$ in the summation expression, it does not matter since it is a dummy index. )\n",
        "\n",
        "And,\n",
        "\n",
        "\\begin{align*}\n",
        "    \\langle H \\rangle &= \\frac{1}{\\beta} \\langle n \\rangle_{W} \\\\\n",
        "    \\epsilon - E &= \\frac{1}{\\beta} \\langle n \\rangle_{W} \\\\\n",
        "    E &= \\epsilon - \\langle n \\rangle_{W}\n",
        "    \\end{align*}\n",
        "\n",
        "**By keeping track of the expansion order when we do the Monte Carlo simulation, we know he energy of the model**.\n"
      ]
    },
    {
      "cell_type": "markdown",
      "metadata": {
        "id": "f33_68qG8X9S"
      },
      "source": [
        "### General idea of quantum mechanical SSE"
      ]
    },
    {
      "cell_type": "markdown",
      "metadata": {
        "id": "6BJZHWA08X9U"
      },
      "source": [
        "In quantum statistical mechanics, the average of function and partition function that follows Boltzmann distribution are as follows,\n",
        "\n",
        "$$ \\langle f \\rangle = \\frac{1}{Z} Tr\\{ f e^{-\\beta H}\\}$$\n",
        "$$ Z = Tr\\{ e^{-\\beta H} \\} $$\n"
      ]
    },
    {
      "cell_type": "markdown",
      "metadata": {
        "id": "qdEohtiPNyV7"
      },
      "source": [
        "With the idea that we have mentioned in last session, we consider the **Taylor expansion  $ e^ {-\\beta H} $ = $ \\sum _ {i=0}^ {\\infty }  \\frac {\\beta^ {i}}{i!} $ $ (-H)^ {i} $**, the partition function is then written as:\n",
        "\n",
        "$$\n",
        "Z_ {SSE} = \\sum _ {i=0}^{\\infty}  \\sum _ {\\{ \\psi \\}_i} \\frac{\\beta^{i}}{i!}\n",
        "\\langle \\psi_i| (-H)^i | \\psi_i \\rangle\n",
        "$$\n",
        "\n",
        "\n",
        "\n",
        "where $\\{\\psi\\}_i$ denotes the set of states (i.e. a complete set of orthnormal basis)."
      ]
    },
    {
      "cell_type": "markdown",
      "metadata": {
        "id": "Cz9TeSHM8X9W"
      },
      "source": [
        "Let us define the following notation,\n",
        "\n",
        "\\begin{equation*}\n",
        "    -H = \\sum_{a,b} H_{a,b}\n",
        "\\end{equation*}\n",
        "\n",
        "and the meanings of indices are as follows,\n",
        "- **a** - classifies the operator type\n",
        "    - Identity **I**, a=0 and b=0\n",
        "    - Diagonal operator, a=1\n",
        "    - Off-diagonal operator, a=2\n",
        "    ( The reason of setting the a as 1&2 will be clearer in the section *\"Implementation of SSE algorithm for spin-1/2 Heisenberg model in code\"*)\n",
        "- **b** - refers to the **bond label** that connecting the sites (*it will become clearer when you visit the defintion of bond_site structure in the coming section*)\n",
        "\n",
        "\n",
        "\n",
        "\n"
      ]
    },
    {
      "cell_type": "markdown",
      "metadata": {
        "id": "iK-efE4F8X9X"
      },
      "source": [
        "When we consider the multiple of $H$ with the above defintion, we can see that\n",
        "\n",
        "\\begin{align*}\n",
        "    (-H)^n &= \\left( \\sum_{a,b} H_{a,b} \\right)^n \\\\\n",
        "           &= \\sum_{\\{ H_{a,b} \\} } \\ \\Pi^{n} H_{a,b}\n",
        "\\end{align*}\n",
        "\n",
        "\n",
        "(To arrive the last steps, you can consider a $H$ as a summation of other operator e.g. $H = A + B$. Then, when you multiply H by $n$ times i.e. $H^n = (A+B)^n = A^n + A^{n-1}B + \\cdots$, you will notice that each terms in the expansion should have $n$ elements and therefore, there is $\\Pi^{n}$ above. The $\\sum_{\\{ H_{a,b} \\} } $ is just to sum up all possbile arrangement of A and B. The idea is still the same when $H$ is consist of more than 2 operators.)"
      ]
    },
    {
      "cell_type": "markdown",
      "metadata": {
        "id": "YsDWseDW8X9Y"
      },
      "source": [
        "Up to now, we can already put our result of $(-H)^n$ above back to the partition function. However, let us consider **giving an upper bound M instead of $\\infty$** to the exponential Taylor series expansion.(i.e. the expansion becomes $ e^ {-\\beta H} \\approx \\sum _ {i=0}^ {M}  \\frac {\\beta^ {i}}{i!} $ $ (-H)^ {i} $  ) since the terms with large $n$ would be expnontienally small and we will have **a very low chance to sample it under the importance sampling scheme**.\n",
        "\n",
        "**In the programme implementation, $M$ will be dynamically adjusted.** We will first set $M$ as a sufficiently large number. If that is too small, then the function *adjustcutoff()* would increase it by 1/3. On the other hand, if $M$ is larger than $n$ (i.e. $M>n$ ), the identity operator $H_{0,0}$ (or $I$ ) will be used to augmented the string.\n",
        "\n",
        "You can check the function *adjustcutoff()* for detailed implementation."
      ]
    },
    {
      "cell_type": "markdown",
      "metadata": {
        "id": "7UHCRxKs8X9Z",
        "vscode": {
          "languageId": "plaintext"
        }
      },
      "source": [
        "After all, the parition function can be writtern as,\n",
        "\n",
        "$$Z_{SSE} = \\sum_{\\psi} \\sum_{\\{ H_{a,b} \\} }  \\frac{\\beta^i (M-i)!}{M!} \\langle \\psi | \\Pi_{n=1}^{M} H_{a,b} | \\psi \\rangle$$\n"
      ]
    },
    {
      "cell_type": "markdown",
      "metadata": {
        "id": "Y4kwDdcq8X9a"
      },
      "source": [
        "However, you might notice that $\\langle \\psi | \\Pi_{n=1}^{M} H_{a,b} | \\psi \\rangle > 0$ needs to fulfill (i.e. it is part of the weight/probabilities and it cannot be zero). The presences of negative terms is called the **sign problem**. Luckily, in the our case, **positive definiteness is fulfilled (i.e. $\\langle \\psi | \\Pi_{n=1}^{M} H_{a,b} | \\psi \\rangle > 0$ for all $| \\psi \\rangle$ state)**\n"
      ]
    },
    {
      "cell_type": "markdown",
      "metadata": {
        "id": "U8IsBsT58X9b"
      },
      "source": [
        "### SSE algorithm for spin-1/2 Heisenberg model"
      ]
    },
    {
      "cell_type": "markdown",
      "metadata": {
        "id": "SIaWlElh8X9c"
      },
      "source": [
        "The Hamiltonian of Heisenberg model is,\n",
        "\n",
        "$$ H =  J \\sum_{\\langle i,j \\rangle} \\vec{S_i} \\cdot \\vec{S_j} =  J \\sum_{\\langle i,j \\rangle} \\left( S_i^{z} S_j^{z} + S_i^{x} S_j^{x} + S_i^{y} S_j^{y} \\right)$$\n",
        "\n",
        "where\n",
        "- $J$ is bond strength. It will be usually set to 1\n",
        "- $\\langle i,j \\rangle$ denotes all the nearest neighbour $i, j$\n",
        "- $\\vec{S_i}$ denotes the spin at site $i$\n",
        "\n",
        "With the defintion of operator $S_{j}^{\\pm} = S_j^{x} \\pm S_j^{y}$, we can rewrite the above operator in the following form,\n",
        "\n",
        "$$ H =  J \\sum_{\\langle i,j \\rangle} \\left[ S_i^{z} S_j^{z} + \\frac{1}{2} \\left( S_i^{+} S_j^{-} +   S_i^{-} S_j^{+} \\right) \\right]$$\n",
        "\n",
        "\n",
        "and we choose the **basis spins \"up\" and \"down\" along the z-direction**, where\n",
        "\n",
        "$$| \\psi \\rangle = | \\uparrow_1 \\uparrow_2 \\cdots \\uparrow_{N_s}  \\rangle$$\n",
        "\n"
      ]
    },
    {
      "cell_type": "markdown",
      "metadata": {
        "id": "5bFjVJtD8X9d"
      },
      "source": [
        "We now **introduce a constant $JN_{b}C$** to the Hamlitonian and the purpose will later be clear. $N_{b}$ is the number of bond in the configuration.\n",
        "\n",
        "\\begin{align*}\n",
        "    H &= J \\sum_{\\langle i,j \\rangle} \\left[ S_i^{z} S_j^{z} + \\frac{1}{2} \\left( S_i^{+} S_j^{-} +   S_i^{-} S_j^{+} \\right) \\right] \\\\\n",
        "    H - JN_{b}C &= J \\sum_{\\langle i,j \\rangle } \\left[ S_i^{z} S_j^{z} + \\frac{1}{2} \\left( S_i^{+} S_j^{-} +   S_i^{-} S_j^{+} \\right) \\right]  - JN_bC \\\\\n",
        "    H - JN_{b}C &= J \\sum_{\\langle i,j \\rangle } \\left[ (S_i^{z} S_j^{z} - C)+ \\frac{1}{2} \\left( S_i^{+} S_j^{-} +   S_i^{-} S_j^{+} \\right) \\right]  \\\\\n",
        "    - \\left( H - JN_{b}C \\right) &= J \\sum_{\\langle i,j \\rangle } \\left[ ( C - S_i^{z} S_j^{z}) - \\frac{1}{2} \\left( S_i^{+} S_j^{-} +   S_i^{-} S_j^{+} \\right) \\right]  \\\\  \n",
        "    - H_{new} &= J \\sum_{\\langle i,j \\rangle } \\left[ ( C - S_i^{z} S_j^{z}) - \\frac{1}{2} \\left( S_i^{+} S_j^{-} +   S_i^{-} S_j^{+} \\right) \\right]  (\\text{      Let     } H_{new} =  H - JN_{b}C)\\\\  \n",
        "\\end{align*}\n",
        "\n",
        "According to the expression $-H = \\sum_{a,b} H_{a,b}$ in the section introduced before, we can define the diagonal operator ($a=1$) and off-diagonal operator ($a=2$),\n",
        "\n",
        "$$H_{1,b} = C - S_i^{z} S_j^{z} $$\n",
        "$$H_{2,b} = \\frac{1}{2} \\left( S_i^{+} S_j^{-} +   S_i^{-} S_j^{+} \\right)$$\n"
      ]
    },
    {
      "cell_type": "markdown",
      "metadata": {
        "id": "Hi1hwL2M8X9e"
      },
      "source": [
        "From the definition of $H_{new}$, we can obtain the **energy expression**. With the relation $\\langle H \\rangle = - \\frac{\\partial }{\\partial \\beta} (\\ln Z)$,\n",
        "\n",
        "\\begin{align*}\n",
        "    \\langle H_{new} \\rangle &= - \\frac{\\partial }{\\partial \\beta} (\\ln Z_{SSE}) \\\\\n",
        "                      &= - \\frac{1}{Z_{SSE}} \\frac{\\partial }{\\partial \\beta} Z_{SSE} \\\\\n",
        "                      &= - \\frac{1}{Z_{SSE}} \\frac{\\partial }{\\partial \\beta} \\left( \\sum_{\\psi} \\sum_{\\{ H_{a,b} \\} }  \\frac{\\beta^i (M-i)!}{M!} \\langle \\psi | \\Pi_{n=1}^{M} H_{a,b} | \\psi \\rangle \\right) \\\\\n",
        "                      &= - \\frac{1}{Z_{SSE}} \\left( \\sum_{\\psi} \\sum_{\\{ H_{a,b} \\} } (i) \\frac{\\beta^{i-1} (M-i)!}{M!} \\langle \\psi | \\Pi_{n=1}^{M} H_{a,b} | \\psi \\rangle \\right) \\\\\n",
        "                      &= -  \\frac{1}{\\beta} \\left( \\frac{1}{Z_{SSE}}  \\sum_{\\psi} \\sum_{\\{ H_{a,b} \\} } \\frac{\\beta^{i} (M-i)!}{M!} (i) |\\langle \\psi | \\Pi_{n=1}^{M} H_{a,b} | \\psi \\rangle  \\right)  (\\text{   pull out     } \\beta^{-1})  \\\\\n",
        "                      &= -  \\frac{1}{\\beta} \\langle i \\rangle_{n} \\\\\n",
        "\\end{align*}\n",
        "\n",
        "where the result is similiar to the classical case.\n",
        "\n",
        "Since we have added the constant to the original $H$, we have to substract it from the expression. The normalized energy can then by obtained by,\n",
        "\n",
        "\\begin{align*}\n",
        "    \\langle H_{new} \\rangle &= - \\frac{1}{\\beta} \\langle i \\rangle_{n} \\\\\n",
        "     \\langle H \\rangle - JN_{b}C &= - \\frac{1}{\\beta} \\langle i \\rangle_{n} \\\\\n",
        "     \\langle H \\rangle &= - \\frac{1}{\\beta} \\langle i \\rangle_{n} + JN_{b}C \\\\\n",
        "     E_{normalized} &= - \\frac{1}{\\beta N_s} \\langle i \\rangle_{n} + \\frac{JN_{b}C}{N_s} \\\\     \n",
        "\\end{align*}\n",
        "\n",
        "where $N_s$ represents the number of sites in the configurations."
      ]
    },
    {
      "cell_type": "markdown",
      "metadata": {
        "id": "zcgCU0H38X9f"
      },
      "source": [
        "### Implementation of SSE algorithm for spin-1/2 Heisenberg model in code"
      ]
    },
    {
      "cell_type": "markdown",
      "metadata": {
        "id": "uC-vD7VZ8X9g"
      },
      "source": [
        "Below are few core elements for implementing SSE algorithm in Python,\n",
        "\n",
        "- bond_site (*bsites* in the code)\n",
        "    - it is a **labeling scheme of the sites and the bond** in the configuraiton.\n",
        "    - For the 1D Heisenberg chain, taking L=4 as example. Denote **blue circles as the sites** and the **red rectangles as the bonds**, it has the following bond_sites scheme,\n",
        "\n",
        "    <img src=\"https://github.com/songmengh/sse_teaching/blob/main/graph/1D%20bond%20site%20labeling%20scheme.png?raw=1\" alt=\"Alt Text\" width=\"700\" style=\"display: block; margin-left: auto; margin-right: auto;\">\n",
        "    \n",
        "    (Extracted from the Final Year Project \"Computation of quantum entanglement in quantum magnetism via Monte Carlo simulations\" of MengHan Song)\n",
        "        \n",
        "    - For the 2D square Heisenberg lattice, taking N=4x4 as example, it has the following bond_sites scheme,\n",
        "\n",
        "    <img src=\"https://github.com/songmengh/sse_teaching/blob/main/graph/2D%20bond%20site%20labeling%20scheme.png?raw=1\" alt=\"Alt Text\" width=\"700\" style=\"display: block; margin-left: auto; margin-right: auto;\">\n",
        "\n",
        "    (Extracted from the Final Year Project \"Computation of quantum entanglement in quantum magnetism via Monte Carlo simulations\" of MengHan Song)\n",
        "\n",
        "    - Explanation of the construction is as follows. The bond_site basically takes 2 integer (i.e. `bsites[direction (either 1 or 2), bond_label]`). For example, bond with `bond_label=10` is connecting sites 10 and 11 in 2D square Heisenberg latticem, the `bsites[1,10]` would return 10 and `bsites[2,10]` would return 11. Another exampple would be `bond_label=32`, which connected site 16 and 4 (periodic boundary condition). `bsites[1,32]`, would return 16 and `bsites[2,32]` would return 4.\n",
        "\n",
        "    - The $b$ in $H_{a,b}$ is the bond label in the labeling scheme\n",
        "\n",
        "- *opstring*\n",
        "    - From the $Z_{SSE}$, there is a multiplication series of operator. (i.e. $\\Pi_{n=1}^{M} H_{a,b}$, you can refer to the section *General idea of Quantum SSE*). We can use a **list in Python to store this multiplication series**.\n",
        "    - For each operator (i.e. each $H_{a,b}$ in  $\\Pi_{n=1}^{M} H_{a,b}$), there are **2 pieces of information to encode**,\n",
        "        1. **type of operator (a)**: diagonal (a=1) or off-diagonal (a=2)\n",
        "        2. **the bond the operator acting on (b)**: b=bond_label\n",
        "    -  In the paper, it uses a clever way to encode the information, it defines $p = 2b + a-1$.\n",
        "        - if we want to know the **type operator**, we can calculate `p%2` (you can put a=1 and a=2 back to the expression of p and think whether it is even or odd)\n",
        "        - if we want to know the **the bond the operator acting on**, we can calculate `p//2`\n",
        "\n",
        "- *spin* ($| \\psi \\rangle$)\n",
        "    - Since we are using the basis spins \"up\" and \"down\" along the z-direction, it is pretty intuitive to represent it in a list of 1 (spin up) or -1 (spin down).\n",
        "    - e.g. for 4 sites 1D chain, $|\\uparrow \\uparrow \\downarrow\\uparrow \\rangle$, it will be list [1,1,-1,1] in Python.\n",
        "    - **The idea of propagation states**\n",
        "        - From the $Z_{SSE}$, there is a term $\\langle \\psi | \\Pi_{n=1}^{M} H_{a,b} | \\psi \\rangle = \\langle \\psi | H_{a_M,b_M} \\cdots H_{a_2,b_2} H_{a_1,b_1} | \\psi \\rangle$. When the operator $H$ operates on the $| \\psi \\rangle$, it will either become a **new state (for off-diagoanl operator)** or it will become the **same state (for diagoanl operator)**. Therefore, the evolution $$\\langle \\psi | \\Pi_{n=1}^{M} H_{a,b} | \\psi \\rangle$$ will be initutive to be represneted as the following \"propagation graph\".\n",
        "\n",
        "    - Viewing from top to bottom, the solid circle represents the \"spin-up\" and void circle represents \"spin-down\". For a 1D `L=8` Hesienberg spin chain with `M=10` (the last layer is the same as top), the propagation graph is as follows,\n",
        "\n",
        "    <img src=\"https://github.com/songmengh/sse_teaching/blob/main/graph/propagation%20graph.png?raw=1\" alt=\"Alt Text\" width=\"700\" style=\"display: block; margin-left: auto; margin-right: auto;\">\n",
        "\n",
        "    - (Extracted from the Final Year Project \"Computation of quantum entanglement in quantum magnetism via Monte Carlo simulations\" of MengHan Song\n",
        "\n",
        "\n",
        "- *vertexlist*\n",
        "    - It is constructed for the loop update (see the implementation in function `loopupdate` or section `Loop update` below for more)\n",
        "    - Each operators has 4 legs to involve in the loop,\n",
        "\n",
        "    <img src=\"https://github.com/songmengh/sse_teaching/blob/main/graph/operator%20graph.png?raw=1\" alt=\"Alt Text\" width=\"700\" style=\"display: block; margin-left: auto; margin-right: auto;\">\n",
        "\n",
        "    (Extracted from the Final Year Project \"Computation of quantum entanglement in quantum magnetism via Monte Carlo simulations\" of MengHan Song)\n",
        "\n",
        "    - According to the propagation graph above, the vertex list would be the following,\n",
        "\n",
        "    <img src=\"https://github.com/songmengh/sse_teaching/blob/main/graph/vertex%20list.png?raw=1\" alt=\"Alt Text\" width=\"700\" style=\"display: block; margin-left: auto; margin-right: auto;\">\n",
        "    \n",
        "    (Extracted from the Final Year Project \"Computation of quantum entanglement in quantum magnetism via Monte Carlo simulations\" of MengHan Song)\n",
        "\n",
        "    In the above `vertexlist`, the `[]` enclose the index and the elements is next to the index. It follows the structure `vertexlist[index of the legs] = leg it connects to`. For example, for leg 4, it is connecting to the leg 9 in the propagation graph so `vertexlist[4]=9`. If there are no operator in that layer, all the legs will be set to 0. (i.e. the second row of the `vertexlist`)\n",
        "\n",
        "    \n",
        "\n"
      ]
    },
    {
      "cell_type": "markdown",
      "metadata": {
        "id": "NBdSeWoi8X9h"
      },
      "source": [
        "### Detailed balance condition"
      ]
    },
    {
      "cell_type": "markdown",
      "metadata": {
        "id": "4dsHHQdD8X9i"
      },
      "source": [
        "Similar to other Monte Carlo simulation, we start from a arbitary allowed configurations (i.e. weight is not 0 ) configuration and generate a Markov chain of configuraations by updating the previous configuration with respect to the detail balance condition and thus the desired probability distribution $P=W/Z$ is sampled.\n",
        "\n",
        "With Metroplis methods, the probabilities of accepting the changes to the previous configuration is,\n",
        "\n",
        "$$P_{accept}(A \\rightarrow B) = min\\left( \\frac{W(B) P_{select}(B \\rightarrow A)}{W(A) P_{select}(A \\rightarrow B)}, 1 \\right)$$\n",
        "\n",
        "The above $P_{accept}$ has the 2 following implications,\n",
        "1. If the new configuration has a **larger weight** (or equal weight) (i.e. $W(B) P_{select}(B \\rightarrow A) \\ge W(A) P_{select}(A \\rightarrow B)$), we will always accept the update\n",
        "2. If the new configuration has a **smaller weight**, we will **still accept it** with probability that is equal to their **weight ratio**.\n",
        "\n",
        "We will be using **diagonal update** and **loop update** for the update and both of them would satisfy the condition $P_{accept}(A \\rightarrow B)$. But before discussing the details of the updating methods, let's looks into the details of operator operating on the state.\n"
      ]
    },
    {
      "cell_type": "markdown",
      "metadata": {
        "id": "gAjzH41_8X9j"
      },
      "source": [
        "### Details of operator operating on the states\n",
        "\n",
        "For easier referencing, $Z_{SSE}$ ,$H_{diagonal}$,$H_{off-diagonal}$ are shown below,\n",
        "\n",
        "$$Z_{SSE} = \\sum_{\\psi} \\sum_{\\{ H_{a,b} \\} }  \\frac{\\beta^i (M-i)!}{M!} \\langle \\psi | \\Pi_{n=1}^{M} H_{a,b} | \\psi \\rangle$$\n",
        "\n",
        "$$H_{\\text{diagonal}} = H_{1,b} = C - S_i^{z} S_j^{z}$$\n",
        "\n",
        "$$H_{\\text{off-diagonal}} = H_{2,b} = \\frac{1}{2} \\left( S_i^{+} S_j^{-} +   S_i^{-} S_j^{+} \\right)$$\n",
        "\n",
        "Then let's consider the operator operating the basis $\\{| \\uparrow \\uparrow \\rangle, | \\uparrow \\downarrow \\rangle, | \\downarrow \\uparrow \\rangle, | \\downarrow \\downarrow \\rangle\\}$ (since the operator operates on the nearest neighbour and this set of basis are the samllest units we can operate on), with the set of rules\n",
        "$$S_i^{z} | \\uparrow \\rangle_{i} = \\frac{1}{2}| \\uparrow \\rangle_{i},  S_i^{z} | \\downarrow \\rangle_{i} = -\\frac{1}{2}| \\downarrow\\rangle_{i}$$\n",
        "$$S_i^{-} | \\uparrow \\rangle_{i} = | \\downarrow \\rangle_{i},  S_i^{+} | \\downarrow \\rangle_{i} = | \\uparrow \\rangle_{i}$$\n",
        "$$S_i^{+} | \\uparrow \\rangle_{i} = S_i^{-}| \\downarrow \\rangle_{i}=0 $$\n",
        "\n",
        "we can work out the following,\n",
        "\n",
        "- Diagonal operator:\n",
        "\\begin{align*}\n",
        "  H_{\\text{diagonal}} |\\uparrow\\uparrow\\rangle &= (C - \\frac{1}{4}) |\\uparrow\\uparrow\\rangle          \\\\\n",
        "  H_{\\text{diagonal}} |\\downarrow\\downarrow\\rangle &= (C - \\frac{1}{4}) |\\downarrow\\downarrow\\rangle  \\\\\n",
        "  H_{\\text{diagonal}} |\\uparrow\\downarrow\\rangle &= (C + \\frac{1}{4}) |\\uparrow\\downarrow\\rangle      \\\\\n",
        "  H_{\\text{diagonal}} |\\downarrow\\uparrow\\rangle &= (C + \\frac{1}{4}) |\\downarrow\\uparrow\\rangle      \\\\\n",
        "  \\end{align*}\n",
        "\n",
        "- Off-diagonal operator:\n",
        "  \\begin{align*}\n",
        "    H_{\\text{off-diagonal}} |\\uparrow\\uparrow\\rangle = 0 \\\\\n",
        "    H_{\\text{off-diagonal}} |\\downarrow\\downarrow\\rangle = 0 \\\\\n",
        "    H_{\\text{off-diagonal}} |\\uparrow\\downarrow\\rangle = \\frac{1}{2} |\\downarrow\\uparrow\\rangle \\\\\n",
        "    H_{\\text{off-diagonal}} |\\downarrow\\uparrow\\rangle = \\frac{1}{2} |\\uparrow\\downarrow\\rangle \\\\\n",
        "    \\end{align*}\n",
        "\n",
        "\n",
        "Here comes the reason **why we introduce a constant C in the diagoanl operator**: By setting $C= \\frac{1}{4}$, the $H_{\\text{diagonal}} |\\uparrow\\uparrow\\rangle$ and $H_{\\text{diagonal}} |\\downarrow\\downarrow\\rangle$ would become 0, which means that we only need to insert, delete or changes the operator acting on the **bond that connect the opposite spin site** in the simulation. This would simplify the logic in the updating methods.  \n",
        "\n",
        "Put $C=\\frac{1}{4}$, the result above would become\n",
        "\n",
        "- **Diagonal matrix elements:**\n",
        "  \\begin{align*}\n",
        "    H_{\\text{diagonal}} |\\uparrow\\uparrow\\rangle &= 0          \\\\\n",
        "    H_{\\text{diagonal}} |\\downarrow\\downarrow\\rangle &= 0      \\\\\n",
        "    H_{\\text{diagonal}} |\\uparrow\\downarrow\\rangle &= \\frac{1}{2} |\\uparrow\\downarrow\\rangle      \\\\\n",
        "    H_{\\text{diagonal}} |\\downarrow\\uparrow\\rangle &= \\frac{1}{2} |\\downarrow\\uparrow\\rangle      \\\\\n",
        "    \\end{align*}\n",
        "\n",
        "- **Off-diagonal matrix elements:**\n",
        "  \\begin{align*}\n",
        "    H_{\\text{off-diagonal}} |\\uparrow\\uparrow\\rangle = 0 \\\\\n",
        "    H_{\\text{off-diagonal}} |\\downarrow\\downarrow\\rangle = 0 \\\\\n",
        "    H_{\\text{off-diagonal}} |\\uparrow\\downarrow\\rangle = \\frac{1}{2} |\\downarrow\\uparrow\\rangle \\\\\n",
        "    H_{\\text{off-diagonal}} |\\downarrow\\uparrow\\rangle = \\frac{1}{2} |\\uparrow\\downarrow\\rangle \\\\\n",
        "    \\end{align*}"
      ]
    },
    {
      "cell_type": "markdown",
      "metadata": {
        "id": "n3jDg6Gv8X9k"
      },
      "source": [
        "### Diagonal update"
      ]
    },
    {
      "cell_type": "markdown",
      "metadata": {
        "id": "qlJ_svLq8X9m"
      },
      "source": [
        "The purpose of having diagonal update is to **change the number of diagonal operator** in the multiplication sequence (i.e. $\\Pi_{n=1}^{M} H_{a,b}$). The way to do this is to change the unitary operator to diagonal operator acting on the bond between opposite spin site (or in vice versa). Also, we have to deal with the off-diagonal operator since it will changes the state during the propagation.\n",
        "\n",
        "Therefore, we will have 3 types of action in the `diagonalupdate` function,\n",
        "\n",
        "1. \"inserting diagonal operator\" or\n",
        "2. \"removing diagonal operator\" if the probabilities allow and,\n",
        "3. \"propagate with off-diagonal operator\" (i.e. refer to the result in previous section, changing the state $| \\uparrow \\downarrow \\rangle$ to $| \\downarrow \\uparrow \\rangle$ or in vice versa)\n",
        "\n",
        "In the following, we are going to derive the insertion and removing probabilties."
      ]
    },
    {
      "cell_type": "markdown",
      "metadata": {
        "id": "Q65_RICC8X9m"
      },
      "source": [
        "**Insertion probability**\n",
        "\n",
        "Recall the detailed balance condition,\n",
        "\n",
        "$$P_{accept}(A \\rightarrow B) = min\\left( \\frac{W(B) P_{select}(B \\rightarrow A)}{W(A) P_{select}(A \\rightarrow B)}, 1 \\right)$$\n",
        "\n",
        "Denote $N_b$ as the number of bond in the configuration, A as the configuration that has not inserted diagonal operator yet and B as the configuration that already has the diagonal operator.\n",
        "\n",
        "$P_{select}(B \\rightarrow A)$ would be would $N_b$ since **there are $N_b$ for you to select and insert the diagonal operator**, while $P_{select}(A \\rightarrow B)$ would be 1 since there is **only 1 way** to select the inserted bond and remove it.  \n",
        "\n",
        "Putting the above idea back to the detailed balance condition, we can derive the probability of inserting the diagonal operator,\n",
        "\n",
        "\\begin{align*}\n",
        "P_{accept} (\\text{Insertion of diagonal operator}) &= \\text{min} \\left( \\frac{W(B)}{W(A)} \\cdot \\frac{P(\\text{delete the bond})}{P(\\text{insert the bond})}, 1 \\right) \\\\\n",
        "\\quad &= \\text{min} \\left(\n",
        "    \\frac{\\frac{\\beta^{n+1} (M - (n+1))!}{M!}  \\left\\langle \\psi_p | \\Pi_{n=1}^{M} H_{a,b} | \\psi_p \\right\\rangle }{\\frac{ \\beta^{n} (M - n)!}{M!} \\left\\langle \\psi_p | \\Pi_{n=1}^{M} H_{a,b} | \\psi_p \\right\\rangle }  N_b, 1\n",
        "    \\right) \\\\\n",
        "    &= \\text{min} \\left(\n",
        "    \\frac{\\beta}{M-n} \\frac{\\langle \\psi_p | H_1 | \\psi_p \\rangle}{\\langle \\psi_p | H_0 | \\psi_p \\rangle}\n",
        "    \\right) \\text{    (other terms in the multiplication series are the same)}\\\\\n",
        "    &= \\text{min} \\left(\n",
        "    \\frac{\\beta/2}{M-n} N_b ,1\n",
        "    \\right) \\\\\n",
        "    \\end{align*}"
      ]
    },
    {
      "cell_type": "markdown",
      "metadata": {
        "id": "fIci14tl8X9o"
      },
      "source": [
        "**Removal probability**\n",
        "\n",
        "Similarily, the removal probabiltiy is as follows,\n",
        "\n",
        "\\begin{align*}\n",
        "P_{accept} (\\text{Removing the diagonal operator}) &= \\text{min} \\left(\n",
        "    \\frac{\\frac{\\beta^{n-1} (M - (n-1))!}{M!}  \\left\\langle \\psi_p | \\Pi_{n=1}^{M} H_{a,b} | \\psi_p \\right\\rangle }{\\frac{ \\beta^{n} (M - n)!}{M!} \\left\\langle \\psi_p | \\Pi_{n=1}^{M} H_{a,b} | \\psi_p \\right\\rangle } \\frac{1}{N_b}, 1\n",
        "    \\right) \\\\\n",
        "    &= \\text{min} \\left(\n",
        "    \\frac{M-n+1}{\\beta N_b/2}  ,1\n",
        "    \\right) \\\\\n",
        "    \\end{align*}"
      ]
    },
    {
      "cell_type": "markdown",
      "metadata": {
        "id": "uLRBeXe88X9p"
      },
      "source": [
        "### Loop update"
      ]
    },
    {
      "cell_type": "markdown",
      "metadata": {
        "id": "ojsN49ZG8X9q"
      },
      "source": [
        "The purpose of having the loop update is to change **the number of off-diagonal operator** in the multiplication series by changing the diagonal operator to off-diagonal operator (or vice versa) and **ensure that the number off-diagonal operator is even**.\n",
        "\n",
        "To illustrate the idea, we can consider the following multiplication series with only 4 operator that acting 2-spin site. If the **number of off-diagonal operator ($H_2$) is not even**,\n",
        "\n",
        "\\begin{align*}\n",
        "    \\langle \\psi | \\Pi_{n=1}^{M} H_{a,b} | \\psi \\rangle &= \\langle \\uparrow \\downarrow | H_{0} H_{0} H_{2} H_{1}  | \\uparrow \\downarrow \\rangle \\\\\n",
        "                                                        &= \\frac{1}{2} \\langle \\uparrow \\downarrow | H_{0} H_{0} H_{2} | \\uparrow \\downarrow \\rangle \\\\\n",
        "                                                        &= \\frac{1}{2} \\langle \\uparrow \\downarrow | H_{0} H_{0} | \\downarrow \\uparrow \\rangle \\\\\n",
        "                                                        &= \\frac{1}{2} \\langle \\uparrow \\downarrow  | \\downarrow \\uparrow \\rangle \\\\\n",
        "                                                        &=0  \\\\\n",
        "    \\end{align*}\n",
        "\n",
        "The result basically means that the configuration with odd number of off-diagoanl has 0 weight and it is meaningless to sample it in the simulation process. Therefore, we need to ensure that the even number of off-diagonal operators exist after every loop update.\n",
        "\n",
        "(In the reference materials, there is a less efficient update called off-diagonal pair update. You can take a look of the explanation if you are interested in it)\n",
        "\n"
      ]
    },
    {
      "cell_type": "markdown",
      "metadata": {
        "id": "q1kzqcUN8X9r"
      },
      "source": [
        "**Graphical representation in loop update**\n",
        "\n",
        "<img src=\"https://github.com/songmengh/sse_teaching/blob/main/graph/Vertices%20of%20loop%20update%20path.png?raw=1\" alt=\"Alt Text\" width=\"700\" style=\"display: block; margin-left: auto; margin-right: auto;\">\n",
        "\n",
        "*(Extracted from the Final Year Project \"Computation of quantum entanglement in quantum magnetism via Monte Carlo simulations\" of MengHan Song)*\n",
        "\n",
        "From the graph above, there are 4 types of path (from left to right),\n",
        "\n",
        "1. Bounce\n",
        "2. Switch and Reverse\n",
        "3. Continue and straight\n",
        "4. Switch and Continue\n",
        "\n",
        "The case \"Bounce\" does not changes the configurations and so we would not adopt it in the loop update. For the case \"Continue and straight\", the configuration is not allowed (i.e. $H_{\\text{off-diagonal}} | \\uparrow \\uparrow \\rangle \\ne | \\downarrow \\downarrow \\rangle$, for details please go back and check the section *Detailed balance condition*). For the case \"Switch and Continue\", the reason is similar, after the diagonal operator acts on bond connecting same spin, which is not allowed.\n",
        "\n",
        "Therefore, \"Switch and Reverse\" is the only possible case in the loop update."
      ]
    },
    {
      "cell_type": "markdown",
      "metadata": {
        "id": "HfnRX45b8X9s"
      },
      "source": [
        "Below are the illustration of how the loops are constructed and flipped,\n",
        "\n",
        "<img src=\"https://github.com/songmengh/sse_teaching/blob/main/graph/Loop%20update%20illustration.png?raw=1\" alt=\"Alt Text\" width=\"900\" style=\"display: block; margin-left: auto; margin-right: auto;\">\n",
        "\n",
        "There are 2 rules when flipping\n",
        "1. flip the spins which lie on the loop  \n",
        "2. flip the operator which lie on the loop (off-diagonal operator $\\leftrightarrow$ diagonal operator)\n",
        "\n",
        "Since the result is deterministic (i.e. \"switch and reverse\" is the only possible vertices of the loop), we would assign the every operators to a certain loop and flip all the loop with probability $\\frac{1}{2}$.\n",
        "\n"
      ]
    },
    {
      "cell_type": "markdown",
      "metadata": {
        "id": "Yk2PUWMQ8X9s"
      },
      "source": [
        "### Code"
      ]
    },
    {
      "cell_type": "code",
      "execution_count": 7,
      "metadata": {
        "id": "FEBcID-A8jmx"
      },
      "outputs": [],
      "source": [
        "import numpy as np\n",
        "import time\n",
        "import matplotlib.pyplot as plt"
      ]
    },
    {
      "cell_type": "code",
      "execution_count": 8,
      "metadata": {
        "id": "saYwyFpc8jmy"
      },
      "outputs": [],
      "source": [
        "def init_config(nn):\n",
        "    global spin\n",
        "    spin = [0]*nn\n",
        "\n",
        "    spin = np.random.choice([1,-1],size=(nn,1))\n",
        "\n",
        "    global mm\n",
        "    mm = 20\n",
        "\n",
        "    global opstring,nh\n",
        "    opstring = [0]*mm\n",
        "    nh = 0\n"
      ]
    },
    {
      "cell_type": "code",
      "execution_count": 9,
      "metadata": {
        "id": "O0EfWx-l8jmy"
      },
      "outputs": [],
      "source": [
        "def makelattice():\n",
        "    global nn,nb,lx,ly,bsites\n",
        "    nn = lx * ly\n",
        "\n",
        "\n",
        "    if ly!=1:      # >1D case\n",
        "        nb = 2*nn\n",
        "        bsites = np.array([[0]*nb,[0]*nb])\n",
        "\n",
        "        for y1 in range(0,ly):\n",
        "            for x1 in range(0,lx):\n",
        "                s = 1+x1+y1*lx\n",
        "                x2 = np.mod(x1+1,lx)\n",
        "                y2 = y1\n",
        "                bsites[0][s-1] = s\n",
        "                bsites[1][s-1] = 1+x2+y2*lx\n",
        "                x2 = x1\n",
        "                y2 = np.mod(y1+1,ly)\n",
        "                bsites[0][s+nn-1] = s\n",
        "                bsites[1][s+nn-1] = 1+x2+y2*lx\n",
        "    else:\n",
        "        nn = lx\n",
        "        nb = nn\n",
        "        bsites = np.array([[0]*nb,[0]*nb])\n",
        "\n",
        "        for x1 in range(lx):\n",
        "            bsites[0][x1] = x1+1\n",
        "            bsites[1][x1] = 1+x1+1\n",
        "\n",
        "        bsites[1][lx-1] = 1\n"
      ]
    },
    {
      "cell_type": "code",
      "execution_count": 10,
      "metadata": {
        "id": "ZzB6iO2A8jmy"
      },
      "outputs": [],
      "source": [
        "def adjustcutoff():\n",
        "    global mm,opstring\n",
        "    mmnew = nh+nh//3\n",
        "    if mmnew <= mm:\n",
        "        return\n",
        "    diff = mmnew-mm\n",
        "    mm = mmnew\n",
        "    opstring.extend([0]*(diff))"
      ]
    },
    {
      "cell_type": "code",
      "execution_count": 11,
      "metadata": {
        "id": "LWf8DVP98jmz"
      },
      "outputs": [],
      "source": [
        "def diagonalupdate():\n",
        "\n",
        "    global spin,mm,nb,nh,aprob,dprob\n",
        "\n",
        "    for i in range(mm):\n",
        "        op = opstring[i]\n",
        "\n",
        "        # insert the diagonal operator\n",
        "        if op == 0:\n",
        "            b = min(int(np.random.random()*nb)+1,nb)\n",
        "            if spin[int(bsites[0][b-1])-1] != spin[int(bsites[1][b-1])-1]:\n",
        "                if (aprob >= mm-nh) or (aprob >= np.random.random()*(mm-nh)):\n",
        "                    opstring[i] = 2*b\n",
        "                    nh += 1\n",
        "\n",
        "        # remove the diagonal operator\n",
        "        elif np.mod(op,2) == 0:\n",
        "            p = dprob*(mm-nh+1)\n",
        "            if (p >= 1 ) or (p>=np.random.random()):\n",
        "                opstring[i] = 0\n",
        "                nh -= 1\n",
        "\n",
        "        # propagate with off-diagoanl operator\n",
        "        else:\n",
        "            b = op//2\n",
        "            spin[int(bsites[0][b-1])-1] = -spin[int(bsites[0][b-1])-1]\n",
        "            spin[int(bsites[1][b-1])-1] = -spin[int(bsites[1][b-1])-1]\n",
        "\n"
      ]
    },
    {
      "cell_type": "code",
      "execution_count": 12,
      "metadata": {
        "id": "2VRDnZoN8jmz"
      },
      "outputs": [],
      "source": [
        "def loopupdate():\n",
        "    global vertexlist,frstspinop,lastspinop,opstring,bsites,spin,mm,nn\n",
        "\n",
        "    frstspinop = [0]*nn\n",
        "    lastspinop = [0]*nn\n",
        "    vertexlist = [0]*(4*mm)\n",
        "\n",
        "    for i in range(nn):\n",
        "        frstspinop[i] = -1\n",
        "        lastspinop[i] = -1\n",
        "\n",
        "    for v0 in np.arange(0,4*mm,4):\n",
        "        op = opstring[v0//4]\n",
        "        if op != 0:\n",
        "            b = op//2\n",
        "            s1 = bsites[0][b-1]\n",
        "            s2 = bsites[1][b-1]\n",
        "            v1 = lastspinop[s1-1]\n",
        "            v2 = lastspinop[s2-1]\n",
        "            if v1 != -1:\n",
        "                vertexlist[v1] = v0\n",
        "                vertexlist[v0] = v1\n",
        "            else:\n",
        "                frstspinop[s1-1] = v0\n",
        "\n",
        "            if v2!=-1:\n",
        "                vertexlist[v2] = v0+1\n",
        "                vertexlist[v0+1] = v2\n",
        "            else:\n",
        "                frstspinop[s2-1] = v0+1\n",
        "\n",
        "            lastspinop[s1-1] = v0+2\n",
        "            lastspinop[s2-1] = v0+3\n",
        "        else:\n",
        "            for i in np.arange(v0,v0+4):\n",
        "                vertexlist[i] = 0\n",
        "\n",
        "    for sn in np.arange(0,nn): #sn is the spin number from 0 to nn-1\n",
        "        v1 = frstspinop[sn]\n",
        "        if v1!=-1:\n",
        "            v2 = lastspinop[sn]\n",
        "            vertexlist[v2] = v1\n",
        "            vertexlist[v1] = v2\n",
        "\n",
        "    for v0 in np.arange(0,4*mm,2):\n",
        "        if vertexlist[v0]<1:\n",
        "            continue\n",
        "        v1 = v0\n",
        "        if np.random.random()<0.5:\n",
        "            while True:\n",
        "                opstring[v1//4] = opstring[v1//4]^1\n",
        "                vertexlist[v1] = -1\n",
        "                v2 = v1^1\n",
        "                v1 = vertexlist[v2]\n",
        "                vertexlist[v2] = -1\n",
        "                if v1==v0:\n",
        "                    break\n",
        "        else:\n",
        "            while True:\n",
        "                vertexlist[v1]=0\n",
        "                v2 = v1^1\n",
        "                v1 = vertexlist[v2]\n",
        "                vertexlist[v2] = 0\n",
        "                if v1==v0:\n",
        "                    break\n",
        "    for i in range(nn):\n",
        "        if frstspinop[i]!=-1:\n",
        "            if vertexlist[int(frstspinop[i])]==-1:\n",
        "                spin[i] = -spin[i]\n",
        "        else:\n",
        "            if np.random.random()<0.5:\n",
        "                spin[i] = -spin[i]"
      ]
    },
    {
      "cell_type": "code",
      "execution_count": 13,
      "metadata": {
        "id": "FMKbKR_J8jmz"
      },
      "outputs": [],
      "source": [
        "def measureobservables():\n",
        "    global enrg1,enrg2,amag1,amag2,am1,am2,ax1,opstring,bsites,spin,mm,nn\n",
        "    am =0\n",
        "    for i in range(nn):\n",
        "        am = am+spin[i]*(-1)**(np.mod(i,lx)+i//lx)\n",
        "    am = am/2\n",
        "    am1 = 0.0\n",
        "    am2 = 0.0\n",
        "    ax1 = 0.0\n",
        "\n",
        "    for i in range(mm):\n",
        "        op = opstring[i]\n",
        "        if op ==0:\n",
        "            continue\n",
        "        elif np.mod(op,2) ==1:\n",
        "            b = op//2\n",
        "            s1 = bsites[0][b-1]\n",
        "            s2 = bsites[1][b-1]\n",
        "            spin[s1-1] = -spin[s1-1]\n",
        "            spin[s2-1] = -spin[s2-1]\n",
        "            am = am+2*spin[s1-1]*(-1)**(np.mod(s1-1,lx)+(s1-1)//lx)\n",
        "        ax1 = ax1+float(am)\n",
        "        am1 = am1+float(abs(am))\n",
        "        am2 = am2+float(am)**2\n",
        "\n",
        "    if nh!=0:\n",
        "        ax1 = (ax1**2+am2)/(float(nh)*float(nh+1))\n",
        "        am1 = am1/nh\n",
        "        am2 = am2/nh\n",
        "    else:\n",
        "        am1 = float(abs(am))\n",
        "        am2 = float(am)**2\n",
        "        ax1 = am2"
      ]
    },
    {
      "cell_type": "markdown",
      "metadata": {
        "id": "5mdlyEzDSRCK"
      },
      "source": [
        "### Example"
      ]
    },
    {
      "cell_type": "markdown",
      "metadata": {
        "id": "ZumgagoNSRCK"
      },
      "source": [
        "1D Heisenberg Chain energy calculation"
      ]
    },
    {
      "cell_type": "code",
      "execution_count": 14,
      "metadata": {
        "colab": {
          "base_uri": "https://localhost:8080/"
        },
        "id": "ky66sd5x8jmz",
        "outputId": "71e321ed-67e5-407d-8d91-c431c433e265",
        "scrolled": true
      },
      "outputs": [
        {
          "ename": "KeyboardInterrupt",
          "evalue": "",
          "output_type": "error",
          "traceback": [
            "\u001b[1;31m---------------------------------------------------------------------------\u001b[0m",
            "\u001b[1;31mKeyboardInterrupt\u001b[0m                         Traceback (most recent call last)",
            "Input \u001b[1;32mIn [14]\u001b[0m, in \u001b[0;36m<cell line: 24>\u001b[1;34m()\u001b[0m\n\u001b[0;32m     24\u001b[0m \u001b[38;5;28;01mfor\u001b[39;00m i \u001b[38;5;129;01min\u001b[39;00m \u001b[38;5;28mrange\u001b[39m(eqstep):\n\u001b[0;32m     25\u001b[0m     diagonalupdate()\n\u001b[1;32m---> 26\u001b[0m     \u001b[43mloopupdate\u001b[49m\u001b[43m(\u001b[49m\u001b[43m)\u001b[49m\n\u001b[0;32m     27\u001b[0m     adjustcutoff()\n\u001b[0;32m     30\u001b[0m \u001b[38;5;28;01mfor\u001b[39;00m i \u001b[38;5;129;01min\u001b[39;00m \u001b[38;5;28mrange\u001b[39m(mcstep):\n",
            "Input \u001b[1;32mIn [12]\u001b[0m, in \u001b[0;36mloopupdate\u001b[1;34m()\u001b[0m\n\u001b[0;32m     33\u001b[0m         lastspinop[s2\u001b[38;5;241m-\u001b[39m\u001b[38;5;241m1\u001b[39m] \u001b[38;5;241m=\u001b[39m v0\u001b[38;5;241m+\u001b[39m\u001b[38;5;241m3\u001b[39m\n\u001b[0;32m     34\u001b[0m     \u001b[38;5;28;01melse\u001b[39;00m:\n\u001b[1;32m---> 35\u001b[0m         \u001b[38;5;28;01mfor\u001b[39;00m i \u001b[38;5;129;01min\u001b[39;00m \u001b[43mnp\u001b[49m\u001b[38;5;241;43m.\u001b[39;49m\u001b[43marange\u001b[49m\u001b[43m(\u001b[49m\u001b[43mv0\u001b[49m\u001b[43m,\u001b[49m\u001b[43mv0\u001b[49m\u001b[38;5;241;43m+\u001b[39;49m\u001b[38;5;241;43m4\u001b[39;49m\u001b[43m)\u001b[49m:\n\u001b[0;32m     36\u001b[0m             vertexlist[i] \u001b[38;5;241m=\u001b[39m \u001b[38;5;241m0\u001b[39m\n\u001b[0;32m     38\u001b[0m \u001b[38;5;28;01mfor\u001b[39;00m sn \u001b[38;5;129;01min\u001b[39;00m np\u001b[38;5;241m.\u001b[39marange(\u001b[38;5;241m0\u001b[39m,nn): \u001b[38;5;66;03m#sn is the spin number from 0 to nn-1\u001b[39;00m\n",
            "\u001b[1;31mKeyboardInterrupt\u001b[0m: "
          ]
        }
      ],
      "source": [
        "start = time.time()\n",
        "\n",
        "lx,ly = 8,1\n",
        "beta=16\n",
        "nbin=10\n",
        "\n",
        "# Initialize the confiugration for simulation\n",
        "makelattice()\n",
        "init_config(nn)\n",
        "aprob = 0.5*beta*nb\n",
        "dprob = 1.0/(0.5*beta*nb)\n",
        "\n",
        "\n",
        "# Prepare the list for recording the result  & bining\n",
        "no_of_operator_bin_lst= []\n",
        "no_of_operator_record_lst = []\n",
        "magnetizaiton_bin_lst = []\n",
        "\n",
        "eqstep = 2000\n",
        "mcstep = 20000\n",
        "nbin = 10\n",
        "bin_step = mcstep//nbin\n",
        "\n",
        "for i in range(eqstep):\n",
        "    diagonalupdate()\n",
        "    loopupdate()\n",
        "    adjustcutoff()\n",
        "\n",
        "\n",
        "for i in range(mcstep):\n",
        "    diagonalupdate()\n",
        "    loopupdate()\n",
        "\n",
        "    # Record the value for binning\n",
        "    no_of_operator_bin_lst.append(nh)\n",
        "\n",
        "    if (i+1)%(bin_step) == 0:\n",
        "\n",
        "        no_of_operator_record_lst.append(np.mean(no_of_operator_bin_lst))\n",
        "\n",
        "        # Clear the bin list\n",
        "        no_of_operator_bin_lst= []\n",
        "\n",
        "        print(f\"{mcstep} in total. {i} steps has been completed\")\n",
        "\n",
        "\n",
        "Energy = -(np.mean(no_of_operator_record_lst)/(beta*nn)-nb/(4*nn))\n",
        "Energy_err = np.std(no_of_operator_record_lst)/(beta*nn)/np.sqrt(nbin)\n",
        "\n",
        "end = time.time()\n",
        "print(\"Running time:\", end-start)\n",
        "print(\"E:\",Energy)\n",
        "print(\"err:\",Energy_err)"
      ]
    },
    {
      "cell_type": "markdown",
      "metadata": {
        "id": "YHKS6JPpSRCO"
      },
      "source": [
        "2D Heisenberg Square Lattice magnetization calculation"
      ]
    },
    {
      "cell_type": "markdown",
      "metadata": {
        "id": "kTFVndbPSRCP"
      },
      "source": [
        "For 2D Heisenberg square lattice, the magnetization is defined as,\n",
        "\n",
        "$$m^z_{s} ＝ \\frac{1}{N} \\sum (-1)^{x+y} S_{x,y}^z $$\n",
        "\n",
        "where $(x,y)$ is the coordinate of the site (i.e. we take site 1 as (0,0)) and $S_{x,y}$ is the z-components of the spin at coordinates $(x,y)$  "
      ]
    },
    {
      "cell_type": "code",
      "execution_count": 15,
      "metadata": {
        "id": "F1H3nw4ZSRCQ"
      },
      "outputs": [],
      "source": [
        "# measure the magnetization <|m|> for 2D model\n",
        "\n",
        "def measure_magnetization():\n",
        "    global opstring,bsites,spin,mm,nh,nn,lx\n",
        "\n",
        "    magnetization = 0\n",
        "    for i in range(nn):\n",
        "        magnetization += spin[i]*(-1)**((i) % lx + (i) // lx)\n",
        "    magnetization = magnetization/2\n",
        "\n",
        "    return_magnetization = 0\n",
        "\n",
        "    for m in range(0,mm):\n",
        "        operator = opstring[m]\n",
        "\n",
        "        if (operator == 0):                            # identity operator => skip the loop\n",
        "            continue\n",
        "\n",
        "        elif (operator % 2 == 1):                      # off-diagonal operator\n",
        "            # Unpack the spin values\n",
        "            bond_label = operator //2\n",
        "            s1 = bsites[0,bond_label-1]\n",
        "            s2 = bsites[1,bond_label-1]\n",
        "\n",
        "            # flip the spin of s1 and s2\n",
        "            spin[s1-1] *= -1\n",
        "            spin[s2-1] *= -1\n",
        "\n",
        "            magnetization += 2 * spin[s1-1] * (-1)**(((s1 - 1) % lx + (s1 - 1) // lx))\n",
        "\n",
        "        return_magnetization += np.abs(magnetization)\n",
        "\n",
        "    if (nh != 0): # nh is not 0\n",
        "        return_magnetization = return_magnetization / (nh*nn)\n",
        "    else:\n",
        "        return_magnetization = np.abs(magnetization) / (nn)\n",
        "\n",
        "    return return_magnetization"
      ]
    },
    {
      "cell_type": "code",
      "execution_count": 20,
      "metadata": {},
      "outputs": [],
      "source": [
        "# measure the all the physical observables for 2D model\n",
        "\n",
        "def measure_observables():\n",
        "    global opstring,bsites,spin,mm,nh,nn,lx\n",
        "\n",
        "    physical_observables_dict = {\"magnetization\":0,\n",
        "                                 \"magnetization square\":0,\n",
        "                                 \"spin stiffness\": 0,\n",
        "                                 \"energy per site\":0}\n",
        "    \n",
        "    # initialize some temporary variables for calculation   \n",
        "    temporary_m = 0\n",
        "    jj = np.zeros(2)\n",
        "\n",
        "    for i in range(nn):\n",
        "        temporary_m += spin[i]*(-1)**((i) % lx  + (i) // lx)                                                                 \n",
        "    temporary_m = temporary_m/2  \n",
        "\n",
        "    for m in range(0,mm):\n",
        "        operator = opstring[m]\n",
        "\n",
        "        if (operator == 0):                            # identity operator => skip the loop\n",
        "            continue\n",
        "\n",
        "        elif (operator % 2 == 1):                      # off-diagonal operator\n",
        "            # Unpack the spin values\n",
        "            bond_label = operator //2\n",
        "            s1 = bsites[0,bond_label-1]\n",
        "            s2 = bsites[1,bond_label-1]\n",
        "\n",
        "            # flip the spin of s1 and s2\n",
        "            spin[s1-1] *= -1\n",
        "            spin[s2-1] *= -1\n",
        "\n",
        "            jj[(bond_label - 1) // nn] += spin[s2 - 1]\n",
        "            temporary_m += 2 * spin[s1-1] * (-1)**(((s1 - 1) % lx + (s1 - 1) // lx))\n",
        "\n",
        "        physical_observables_dict[\"magnetization\"] += np.abs(temporary_m)\n",
        "        physical_observables_dict[\"magnetization square\"] += np.square(temporary_m) \n",
        "\n",
        "    if (nh != 0): # nh is not 0\n",
        "        #return_magnetization = return_magnetization / (nh*nn)\n",
        "        physical_observables_dict[\"magnetization\"] /= nh*nn\n",
        "        physical_observables_dict[\"magnetization square\"] /= nh*nn\n",
        "    else:\n",
        "        physical_observables_dict[\"magnetization\"] = np.abs(temporary_m) / (nn)\n",
        "        physical_observables_dict[\"magnetization square\"] = np.abs(temporary_m) / (nn)\n",
        "\n",
        "    physical_observables_dict[\"spin stiffness\"] += 0.5*np.sum(np.square(jj))/(beta*nn)\n",
        "\n",
        "    return physical_observables_dict"
      ]
    },
    {
      "cell_type": "code",
      "execution_count": 17,
      "metadata": {},
      "outputs": [],
      "source": [
        "# Take the mean of the physical observables dictionary\n",
        "# Assume all the variables in the list have the same key \n",
        "\n",
        "from collections import defaultdict\n",
        "def find_mean_physical_observables_dict(list_of_physical_observables_dict):\n",
        "    mean_dict = defaultdict(float)\n",
        "    no_of_dict = len(list_of_physical_observables_dict)\n",
        "\n",
        "    for physical_observables_dict in list_of_physical_observables_dict:\n",
        "        for key, value in physical_observables_dict.items():\n",
        "           mean_dict[key] += value/no_of_dict\n",
        "\n",
        "    return mean_dict"
      ]
    },
    {
      "cell_type": "code",
      "execution_count": 21,
      "metadata": {
        "id": "FozswbMxSRCS"
      },
      "outputs": [
        {
          "name": "stdout",
          "output_type": "stream",
          "text": [
            "10000 in total. 999 steps has been completed\n",
            "10000 in total. 1999 steps has been completed\n",
            "10000 in total. 2999 steps has been completed\n",
            "10000 in total. 3999 steps has been completed\n",
            "10000 in total. 4999 steps has been completed\n",
            "10000 in total. 5999 steps has been completed\n",
            "10000 in total. 6999 steps has been completed\n",
            "10000 in total. 7999 steps has been completed\n",
            "10000 in total. 8999 steps has been completed\n",
            "10000 in total. 9999 steps has been completed\n",
            "defaultdict(<class 'float'>, {})\n"
          ]
        }
      ],
      "source": [
        "start = time.time()\n",
        "\n",
        "lx,ly = 4,4\n",
        "beta = 32\n",
        "\n",
        "# Initialize the confiugration for simulation\n",
        "makelattice()\n",
        "init_config(lx*ly)\n",
        "aprob = 0.5*beta*nb\n",
        "dprob = 1.0/(0.5*beta*nb)\n",
        "\n",
        "# Prepare the list for recording the result & bining\n",
        "result_bin_lst = []\n",
        "result_lst = []\n",
        "\n",
        "eqstep = 5000\n",
        "mcstep = 1e6\n",
        "nbin = 10\n",
        "bin_step = mcstep//nbin\n",
        "\n",
        "for i in range(eqstep):\n",
        "    diagonalupdate()\n",
        "    loopupdate()\n",
        "    adjustcutoff()\n",
        "\n",
        "for i in range(mcstep):\n",
        "    diagonalupdate()\n",
        "    loopupdate()\n",
        "\n",
        "    # Record the value for binning\n",
        "    result_bin_lst.append(measure_observables())\n",
        "\n",
        "    if (i+1)%(bin_step) == 0:\n",
        "        result_lst.append(find_mean_physical_observables_dict(result_bin_lst))\n",
        "\n",
        "        # Clear the bin list\n",
        "        result_bin_lst = [] \n",
        "\n",
        "        print(f\"{mcstep} in total. {i+1} steps has been completed\")\n",
        "\n",
        "print(find_mean_physical_observables_dict(result_lst))\n",
        "\n",
        "#magnentization = np.mean(magnetizaiton_lst)\n",
        "#magnetizaiton_err = np.std(magnetizaiton_lst)/np.sqrt(nbin)\n",
        "\n",
        "end = time.time()\n",
        "\n",
        "#print(\"Running time:\", end-start)\n",
        "#print(f\"Magnentization: {magnentization}\")\n",
        "#print(f\"The error of magnentization: {magnetizaiton_err}\")"
      ]
    },
    {
      "cell_type": "code",
      "execution_count": 22,
      "metadata": {},
      "outputs": [
        {
          "name": "stdout",
          "output_type": "stream",
          "text": [
            "defaultdict(<class 'float'>, {'magnetization': array([0.25757363]), 'magnetization square': array([1.46566698]), 'spin stiffness': 96.90879999999872, 'energy per site': 0.0})\n"
          ]
        }
      ],
      "source": [
        "print(find_mean_physical_observables_dict(result_bin_lst))"
      ]
    },
    {
      "cell_type": "code",
      "execution_count": 23,
      "metadata": {},
      "outputs": [
        {
          "name": "stdout",
          "output_type": "stream",
          "text": [
            "1000000\n",
            "1000000.0\n"
          ]
        }
      ],
      "source": [
        "print(10**6)\n",
        "print(1e6)"
      ]
    }
  ],
  "metadata": {
    "colab": {
      "provenance": []
    },
    "kernelspec": {
      "display_name": "Python 3 (ipykernel)",
      "language": "python",
      "name": "python3"
    },
    "language_info": {
      "codemirror_mode": {
        "name": "ipython",
        "version": 3
      },
      "file_extension": ".py",
      "mimetype": "text/x-python",
      "name": "python",
      "nbconvert_exporter": "python",
      "pygments_lexer": "ipython3",
      "version": "3.9.12"
    }
  },
  "nbformat": 4,
  "nbformat_minor": 0
}
