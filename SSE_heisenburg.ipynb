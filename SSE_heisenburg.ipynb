{
  "cells": [
    {
      "cell_type": "markdown",
      "metadata": {
        "id": "kUIgLktc8xie"
      },
      "source": [
        "# Stochastic Series Expansion (SSE) on spin-1/2 Heisenberg antiferromagnet"
      ]
    },
    {
      "cell_type": "markdown",
      "metadata": {},
      "source": [
        "This is an simple code adopted from [Prof. Anders W. Sandvik](https://physics.bu.edu/~sandvik/) for simulating the Heisenberg model on square lattice. To understand the following content in jupyter, we assume students understand the basic in Monte Carlo simulation and basic quantum statistical mechanics. For the original source of the note, you can click [here](https://physics.bu.edu/~sandvik/programs/ssebasic/ssebasic.html)"
      ]
    },
    {
      "cell_type": "markdown",
      "metadata": {
        "id": "r5nXSdo94dMw"
      },
      "source": [
        "### Background knowledge in Statistical mechanices"
      ]
    },
    {
      "cell_type": "markdown",
      "metadata": {},
      "source": [
        "Denote $\\psi$ as one of the possible configuration of the model. The average of certain function $f$ and partition funciton are as follows,\n",
        "\n",
        "$$ \\langle f \\rangle = \\frac{1}{Z} \\sum f(\\psi) W(\\psi) $$\n",
        "$$ Z = \\sum_{\\{ \\psi \\}} W(\\psi) $$\n",
        "\n",
        "where $W(\\psi)$ is the weight of the configuration and $\\{ \\psi \\}$ denote the set of all possible configurations of the model. "
      ]
    },
    {
      "cell_type": "markdown",
      "metadata": {},
      "source": [
        "As the model follows Maxwell-Boltzmann distribution, $W(\\psi) = e^{- \\beta E(\\psi)}$, where $\\beta = \\frac{1}{T}$ is the inverse of temperature. "
      ]
    },
    {
      "cell_type": "markdown",
      "metadata": {},
      "source": [
        "Then, by consider the Taylor expansion of the $e^{- \\beta E(\\psi)}$ in the average expression,\n",
        "\n",
        "$$e^{- \\beta E(\\psi)} = \\sum_{n}^{\\infty} \\frac{(- \\beta E(\\psi) )^n}{n!}$$\n",
        "\n",
        "we can rewrite the $\\langle f \\rangle$ and $Z$ as, \n",
        "\n",
        "$$ \\langle f \\rangle = \\frac{1}{Z} \\sum_{n}^{\\infty} \\sum_{\\{ \\psi \\} } f(\\psi)  \\frac{(- \\beta E(\\psi) )^n}{n!} $$\n",
        "\n",
        "$$ Z = \\sum_{n}^{\\infty} \\sum_{\\{ \\psi \\} } \\frac{(- \\beta E(\\psi) )^n}{n!} $$ "
      ]
    },
    {
      "cell_type": "markdown",
      "metadata": {},
      "source": [
        "We are now sampling not only in the space $\\{ \\psi \\}$, but in the space $\\{ (\\psi,n) \\}$, which includes an extra dimension $n$ (the expansion order n) for us to visit in Monte Carlo simulation. \n",
        "\n",
        "With this modifcation, we need to guarantee that the terms $ \\frac{(- \\beta E(\\psi) )^n }{n!} $ need to be positive (i.e. since **weight or probability cannot be a negative number**.) \n",
        "\n",
        "Therefore, we define a new weight to be used for sampling in this configuration space as, \n",
        "\n",
        "$$W(\\psi, n) = \\frac{\\beta^n [\\epsilon - E(\\psi) ]^n}{n!}$$\n",
        "\n",
        "we can choose a suitable constant $\\epsilon$ so that $\\epsilon - E(\\psi) > 0$"
      ]
    },
    {
      "cell_type": "markdown",
      "metadata": {},
      "source": [
        "Define $H(\\psi) = \\epsilon - E(\\psi)$. With this defintion, the weight $W(\\psi, n)$ can be rewritten as, \n",
        "\n",
        "$$W(\\psi, n) = \\frac{\\beta^n [H(\\psi)]^n}{n!}$$\n",
        "\n",
        "The expectation of $\\langle H(\\psi) \\rangle$ and partition function $Z$ can then be written as,\n",
        "\n",
        "$$\\langle H \\rangle = \\frac{1}{Z} \\sum_{n}^{\\infty} \\sum_{ \\{ \\psi \\} } H(\\psi) W(\\psi,n)  $$\n",
        "\n",
        "$$Z = \\sum_{n}^{\\infty} \\sum_{\\{ \\psi \\} } W(\\psi,n) $$\n"
      ]
    },
    {
      "cell_type": "markdown",
      "metadata": {},
      "source": [
        "Below are then a bit tricky **since $H$ can be written as 1 of the term of $W(\\psi,1)$ and $\\beta$**.\n",
        " \n",
        "Consider only the terms in the nominator of $\\langle H \\rangle$ expression,\n",
        "\n",
        "$$\\sum_{n}^{\\infty} \\sum_{ \\{ \\psi \\} } H(\\psi) W(\\psi,n)$$\n",
        "\n",
        "\\begin{align}\n",
        "    \\sum_{n}^{\\infty} \\sum_{ \\{ \\psi \\} } H(\\psi) W(\\psi,n) &= \\sum_{n}^{\\infty} \\sum_{ \\{ \\psi \\} } W(\\psi,1) W(\\psi,n) \\\\\n",
        "    &= \\sum_{n}^{\\infty} \\sum_{ \\{ \\psi \\} } \\frac{\\beta [H(\\psi)]}{1} \\frac{\\beta^n [H(\\psi)]^n}{n!} \\\\\n",
        "    &= \\sum_{n}^{\\infty} \\sum_{ \\{ \\psi \\} } \\frac{n+1}{\\beta} \\frac{\\beta^{n+1} [H(\\psi)]^{n+1}}{(n+1)!} \\\\\n",
        "    &= \\sum_{n}^{\\infty} \\sum_{ \\{ \\psi \\} } \\frac{n+1}{\\beta} W(\\psi, n+1) \\\\\n",
        "    &= \\frac{1}{\\beta} \\sum_{m-1}^{\\infty} \\sum_{ \\{ \\psi \\} } m W(\\psi, m)  \n",
        "    \\end{align} \n",
        "\n",
        "With the result above, the $\\langle H \\rangle$ can be written as,\n",
        "\n",
        "$$\\langle H \\rangle = \\frac{1}{\\beta} \\left( \\frac{1}{Z}  \\sum_{n-1}^{\\infty} \\sum_{ \\{ \\psi \\} } n W(\\psi, n) \\right) = \\frac{1}{\\beta} \\langle n \\rangle_W$$\n",
        "\n",
        "(Why can we arrive the last result? By comparing the 2nd last expression and the standard average formula of $\\langle f \\rangle$, you will know it.)\n",
        "\n",
        "And, \n",
        "\n",
        "\\begin{align}\n",
        "    \\langle H \\rangle &= \\frac{1}{\\beta} \\langle m \\rangle_{W} \\\\\n",
        "    \\epsilon - E &= \\frac{1}{\\beta} \\langle m \\rangle_{W} \\\\\n",
        "    E &= \\epsilon - \\langle m \\rangle_{W}\n",
        "    \\end{align} \n",
        "\n",
        "This result is impressive since it means that, **if we want to know the energy of the model, we just need to keep track of the expansion order when we do the Monte Carlo simulation**. \n"
      ]
    },
    {
      "cell_type": "markdown",
      "metadata": {},
      "source": [
        "### General idea of quantum mechanical SSE "
      ]
    },
    {
      "cell_type": "markdown",
      "metadata": {},
      "source": [
        "In quantum statistical mechanics, the average of function and partition function that follows Boltzmann distribution are as follows,\n",
        "\n",
        "$$ \\langle f \\rangle = \\frac{1}{Z} Tr\\{ f e^{-\\beta H}\\}$$\n",
        "$$ Z = Tr\\{ e^{-\\beta H} \\}\n"
      ]
    },
    {
      "cell_type": "markdown",
      "metadata": {
        "id": "qdEohtiPNyV7"
      },
      "source": [
        "With the idea that we have mentioned in last session, we consider the **Taylor expansion  $ e^ {-\\beta H} $ = $ \\sum _ {i=0}^ {\\infty }  \\frac {\\beta^ {i}}{i!} $ $ (-H)^ {i} $**, the partition function is then written as:\n",
        "\n",
        "$$\n",
        "Z_ {SSE} = \\sum _ {i=0}^{\\infty}  \\sum _ {\\{ \\psi \\}_i} \\frac{\\beta^{i}}{i!} \n",
        "\\langle \\psi_i| (-H)^i | \\psi_i \\rangle \n",
        "$$\n",
        "\n",
        "\n",
        "\n",
        "where $\\{\\psi\\}_i$ denotes a complete set of states (i.e. a complete set of orthnormal basis)."
      ]
    },
    {
      "cell_type": "markdown",
      "metadata": {},
      "source": [
        "Let us define the following notation,\n",
        "\n",
        "\\begin{equation}\n",
        "    -H = \\sum_{a,b} H_{a,b}\n",
        "\\end{equation}\n",
        "\n",
        "and the meanings of indices are as follows,\n",
        "- **a** - classifies the operator type \n",
        "    - Identity **I**, a=0 and b=0 \n",
        "    - Diagonal operator, a=1 \n",
        "    - Off-diagonal operator, a=2\n",
        "    ( The reason of setting the a as 1&2 will be clearer in the section *\"Implementation of SSE algorithm for spin-1/2 Heisenberg model in code\"*)\n",
        "- **b** - refers to the **bond label** that connecting the sites (*it will become clearer when you visit the defintion of bond_site structure in the coming section*)\n",
        "\n",
        "\n",
        "\n",
        "\n"
      ]
    },
    {
      "cell_type": "markdown",
      "metadata": {},
      "source": [
        "When we consider the multiple of $H$ with the above defintion, we can see that \n",
        "\n",
        "\\begin{align}\n",
        "    (-H)^n &= \\left( \\sum_{a,b} H_{a,b} \\right)^n \\\\\n",
        "           &= \\sum_{\\{ H_{a,b} \\} } \\ \\Pi^{n} H_{a,b}\n",
        "\\end{align}\n",
        "\n",
        "\n",
        "(To arrive the last steps, you can consider a $H$ as a summation of other operator e.g. $H = A + B$. Then, when you multiply H by $n$ times i.e. $H^n = (A+B)^n = A^n + A^{n-1}B + \\cdots$, you will notice that each terms in the expansion should have $n$ elements and therefore, there is $\\Pi^{n}$ above. The $\\sum_{\\{ H_{a,b} \\} } $ is just to sum up all possbile arrangement of A and B. The idea is still the same when $H$ is consist of more than 2 operators.)"
      ]
    },
    {
      "cell_type": "markdown",
      "metadata": {},
      "source": [
        "Up to now, we can already put our result of $(-H)^n$ above back to the partition function. However, let us consider **giving an upper bound M instead of $\\infty$** to the exponential Taylor series expansion.(i.e. the expansion becomes $ e^ {-\\beta H} \\approx \\sum _ {i=0}^ {M}  \\frac {\\beta^ {i}}{i!} $ $ (-H)^ {i} $  ) since the terms with large $n$ would be expnontienally small and we will have **a very low chance to sample it under the importance sampling scheme**. \n",
        "\n",
        "**In the programme implementation, $M$ will be dynamically adjusted.** We will first set $M$ as a sufficiently large number. If that is too small, then the function *adjustcutoff()* would increase it by 1/3. On the other hand, if $M$ is larger than $n$ (i.e. $M>n$ ), the identity operator **I** (H_{0,0}) will be used to augmented the string. \n",
        "\n",
        "You can check the function *adjustcutoff()* for detailed implementation. "
      ]
    },
    {
      "cell_type": "markdown",
      "metadata": {
        "vscode": {
          "languageId": "plaintext"
        }
      },
      "source": [
        "After all, the parition function can be writtern as,\n",
        "\n",
        "$$Z_{SSE} = \\sum_{\\psi} \\sum_{\\{ H_{a,b} \\} }  \\frac{\\beta^i (M-i)!}{M!} \\langle \\psi | \\Pi_{n=1}^{M} H_{a,b} | \\psi \\rangle$$\n"
      ]
    },
    {
      "cell_type": "markdown",
      "metadata": {},
      "source": [
        "However, you might notice that $\\langle \\psi | \\Pi_{n=1}^{M} H_{a,b} | \\psi \\rangle > 0$ needs to fulfill (i.e. it is part of the weight/probabilities and it cannot be zero). The presences of negative terms is called the **sign problem**. \n",
        "\n",
        "Luckily, in the our case, **positive definiteness is fulfilled (i.e. $\\langle \\psi | \\Pi_{n=1}^{M} H_{a,b} | \\psi \\rangle > 0$ for all $| \\psi \\rangle$ state)**\n"
      ]
    },
    {
      "cell_type": "markdown",
      "metadata": {},
      "source": [
        "### SSE algorithm for spin-1/2 Heisenberg model "
      ]
    },
    {
      "cell_type": "markdown",
      "metadata": {},
      "source": [
        "The Hamiltonian of Heisenberg model is, \n",
        "\n",
        "$$ H =  J \\sum_{\\langle i,j \\rangle} \\vec{S_i} \\cdot \\vec{S_j} =  J \\sum_{\\langle i,j \\rangle} \\left( S_i^{z} S_j^{z} + S_i^{x} S_j^{x} + S_i^{y} S_j^{y} \\right)$$\n",
        "\n",
        "where \n",
        "- $J$ is bond strength. It will be usually set to 1\n",
        "- $\\langle i,j \\rangle$ denotes all the nearest neighbour $i, j$\n",
        "- $\\vec{S_i}$ denotes the spin at site $i$\n",
        "\n",
        "With the defintion of operator $S_{j}^{\\pm} = S_j^{x} \\pm S_j^{y}$, we can rewrite the above operator in the following form, \n",
        "\n",
        "$$ H =  J \\sum_{\\langle i,j \\rangle} \\left[ S_i^{z} S_j^{z} + \\frac{1}{2} \\left( S_i^{+} S_j^{-} +   S_i^{-} S_j^{+} \\right) \\right]$$\n",
        "\n",
        "\n",
        "and we choose the **basis spins \"up\" and \"down\" along the z-direction**, where \n",
        "\n",
        "$$| \\psi \\rangle = | \\uparrow_1 \\uparrow_2 \\cdots \\uparrow_{N_s}  \\rangle$$ \n",
        "\n"
      ]
    },
    {
      "cell_type": "markdown",
      "metadata": {},
      "source": [
        "We now **introduce a constant $JN_{b}C$** to the Hamlitonian and the purpose will later be clear. $N_{b}$ is the number of bond in the configuration. \n",
        "\n",
        "\\begin{align}\n",
        "    H &= J \\sum_{\\langle i,j \\rangle} \\left[ S_i^{z} S_j^{z} + \\frac{1}{2} \\left( S_i^{+} S_j^{-} +   S_i^{-} S_j^{+} \\right) \\right] \\\\ \n",
        "    H - JN_{b}C &= J \\sum_{\\langle i,j \\rangle } \\left[ S_i^{z} S_j^{z} + \\frac{1}{2} \\left( S_i^{+} S_j^{-} +   S_i^{-} S_j^{+} \\right) \\right]  - JN_bC \\\\ \n",
        "    H - JN_{b}C &= J \\sum_{\\langle i,j \\rangle } \\left[ (S_i^{z} S_j^{z} - C)+ \\frac{1}{2} \\left( S_i^{+} S_j^{-} +   S_i^{-} S_j^{+} \\right) \\right]  \\\\ \n",
        "    - \\left( H - JN_{b}C \\right) &= J \\sum_{\\langle i,j \\rangle } \\left[ ( C - S_i^{z} S_j^{z}) - \\frac{1}{2} \\left( S_i^{+} S_j^{-} +   S_i^{-} S_j^{+} \\right) \\right]  \\\\  \n",
        "    - H_{new} &= J \\sum_{\\langle i,j \\rangle } \\left[ ( C - S_i^{z} S_j^{z}) - \\frac{1}{2} \\left( S_i^{+} S_j^{-} +   S_i^{-} S_j^{+} \\right) \\right]  (\\text{      Let     } H_{new} =  H - JN_{b}C)\\\\  \n",
        "\\end{align} \n",
        "\n",
        "According to the expression $-H = \\sum_{a,b} H_{a,b}$ in the section introduced before, we can define the diagonal operator ($a=1$) and off-diagonal operator ($a=2$), \n",
        "\n",
        "$$H_{1,b} = C - S_i^{z} S_j^{z} $$ \n",
        "$$H_{2,b} = \\frac{1}{2} \\left( S_i^{+} S_j^{-} +   S_i^{-} S_j^{+} \\right)$$ \n",
        "\n",
        "We have **neglected the negative sign of the off-diagonal operators due to sublattice rotation**. "
      ]
    },
    {
      "cell_type": "markdown",
      "metadata": {},
      "source": [
        "From the definition of $H_{new}$, we can obtain the **energy expression**. With the relation $\\langle H \\rangle = - \\frac{\\partial }{\\partial \\beta} (\\ln Z)$, \n",
        "\n",
        "\\begin{align}\n",
        "    \\langle H_{new} \\rangle &= - \\frac{\\partial }{\\partial \\beta} (\\ln Z_{SSE}) \\\\ \n",
        "                      &= - \\frac{1}{Z_{SSE}} \\frac{\\partial }{\\partial \\beta} Z_{SSE} \\\\\n",
        "                      &= - \\frac{1}{Z_{SSE}} \\frac{\\partial }{\\partial \\beta} \\left( \\sum_{\\psi} \\sum_{\\{ H_{a,b} \\} }  \\frac{\\beta^i (M-i)!}{M!} \\langle \\psi | \\Pi_{n=1}^{M} H_{a,b} | \\psi \\rangle \\right) \\\\ \n",
        "                      &= - \\frac{1}{Z_{SSE}} \\left( \\sum_{\\psi} \\sum_{\\{ H_{a,b} \\} } (i) \\frac{\\beta^{i-1} (M-i)!}{M!} \\langle \\psi | \\Pi_{n=1}^{M} H_{a,b} | \\psi \\rangle \\right) \\\\ \n",
        "                      &= -  \\frac{1}{\\beta} \\left( \\frac{1}{Z_{SSE}}  \\sum_{\\psi} \\sum_{\\{ H_{a,b} \\} } \\frac{\\beta^{i} (M-i)!}{M!} (i) |\\langle \\psi | \\Pi_{n=1}^{M} H_{a,b} | \\psi \\rangle  \\right)  (\\text{   pull out     } \\beta^{-1})  \\\\\n",
        "                      &= -  \\frac{1}{\\beta} \\langle i \\rangle_{n} \\\\\n",
        "\\end{align}\n",
        "\n",
        "where the result is similiar to the classical case. \n",
        "\n",
        "Then, since we have added the constant to the original $H$, we have to substract it from the expression. The normalized energy can then by obtained by,\n",
        "\n",
        "\\begin{align}\n",
        "    \\langle H_{new} \\rangle &= - \\frac{1}{\\beta} \\langle i \\rangle_{n} \\\\\n",
        "     \\langle H \\rangle - JN_{b}C &= - \\frac{1}{\\beta} \\langle i \\rangle_{n} \\\\ \n",
        "     \\langle H \\rangle &= - \\frac{1}{\\beta} \\langle i \\rangle_{n} + JN_{b}C \\\\ \n",
        "     E_{normalized} &= - \\frac{1}{\\beta N_s} \\langle i \\rangle_{n} + \\frac{JN_{b}C}{N_s} \\\\     \n",
        "\\end{align}\n",
        "\n",
        "where $N_s$ represents the number of sites in the configurations. "
      ]
    },
    {
      "cell_type": "markdown",
      "metadata": {},
      "source": [
        "### Implementation of SSE algorithm for spin-1/2 Heisenberg model in code"
      ]
    },
    {
      "cell_type": "markdown",
      "metadata": {},
      "source": [
        "Below are few core elements to implement SSE algorithm in Python, \n",
        "\n",
        "- bond_site (*bsites* in the code)\n",
        "    - it is a **labeling scheme of the sites and the bond** in the configuraiton.\n",
        "    - For the 1D Heisenberg chain, taking L=4 as example, it has the following bond_sites scheme,\n",
        "\n",
        "    **(add 1D Heisenberg chain bond_site graph)**\n",
        "        \n",
        "    - For the 2D square Heisenberg lattice, taking N=4x4 as example, it has the following bond_sites scheme,\n",
        "\n",
        "    **(add 2D square Heisenberg lattice bond_site graph)**\n",
        "\n",
        "    - Explanation of the construction is as follows. The bond_site basically takes 2 integer (i.e. `bsites[direction (either 1 or 2), bond_label]`). For example, bond with `bond_label=10` is connecting sites 10 and 11 in 2D square Heisenberg latticem, the `bsites[1,10]` would return 10 and `bsites[2,10]` would return 11. Another exampple would be `bond_label=32`, which connected site 16 and 4 (periodic boundary condition). `bsites[1,32]`, would return 16 and `bsites[2,32]` would return 4.\n",
        "\n",
        "- *opstring* \n",
        "    - From the $Z_{SSE}$, there is a multiplication series of operator. (i.e. $\\Pi_{n=1}^{M} H_{a,b}$, you can refer to the section *General idea of Quantum SSE*). We can use a **list in Python to store this multiplication series**. \n",
        "    - For each operator (i.e. each $H_{a,b}$ in  $\\Pi_{n=1}^{M} H_{a,b}$), there are **2 pieces of information to encode**, \n",
        "        1. **type of operator (a)**: diagonal (a=1) or off-diagonal (a=2)\n",
        "        2. **the bond the operator acting on (b)**:　b=bond_label\n",
        "    - 　In the paper, it uses a clever way to encode the information, it defines $p = 2b + a-1$. \n",
        "        - if we want to know the **type operator**, we can calculate $p%2$ (you can put a=1 and a=2 back to the expression of p and think whether it is even or odd)\n",
        "        - if we want to know the **the bond the operator acting on**, we can calculate $p//2$\n",
        "\n",
        "- *spin* ($| \\psi \\rangle$)\n",
        "    - Since we are using the basis spins \"up\" and \"down\" along the z-direction, it is pretty intuitive to represent it in a list of 1 (spin up) or -1 (spin down). \n",
        "    - e.g. for 4 sites 1D chain, $|\\uparrow \\uparrow \\downarrow\\uparrow \\rangle$, it will be list [1,1,-1,1] in Python. \n",
        "    - **The idea of propagation states** \n",
        "        - From the $Z_{SSE}$, there is a term $\\langle \\psi | \\Pi_{n=1}^{M} H_{a,b} | \\psi \\rangle = \\langle \\psi | H_{a_M,b_M} \\cdots H_{a_2,b_2} H_{a_1,b_1} | \\psi \\rangle$. When the operator $H$ operates on the $| \\psi \\rangle$, it will either become a **new state (for off-diagoanl operator)** or it will become the **same state (for diagoanl operator)**. Therefore, the evolution $$\\langle \\psi | \\Pi_{n=1}^{M} H_{a,b} | \\psi \\rangle$$ will be initutive to be represneted as the following \"propagation graph\". \n",
        "\n",
        "    - Viewing from top to bottom, the red solid circle represents the \"spin-up\" and blue void circle represents \"spin-down\". For a 1D `L=6` Hesienberg spin chain with `M=10`, the propagation graph could be the following, \n",
        "\n",
        "    **(Attached the propagation graph)**\n",
        "\n",
        "- *vertexlist* \n",
        "    - It is constructed for the loop update (see the implementation in function `loop_update` below)\n",
        "    - Each operators has 4 legs to involve in the loop, \n",
        "\n",
        "    **(Attached the operator graph)**\n",
        "\n",
        "    - According to the propagation graph above, the vertex list would take the following form \n",
        "\n",
        "    **(Add the table of the corresponding vertexlist)**\n",
        "\n",
        "    **(Explaination)** \n",
        "\n",
        "    \n"
      ]
    },
    {
      "cell_type": "markdown",
      "metadata": {},
      "source": [
        "### Detailed balance condition, diagonal update and loop update"
      ]
    },
    {
      "cell_type": "markdown",
      "metadata": {},
      "source": [
        "Similar to other Monte Carlo simulation, we start from a arbitary allowed configurations (i.e. weight is not 0 ) configuration and generate a Markov chain of configuraations by updating the previous configuration with respect to the detail balance condition and thus the desired probability distribution $P=W/Z$ is sampled. \n",
        "\n",
        "With Metroplis methods, the probabilities of accepting the changes to the previous configuration is, \n",
        "\n",
        "$$P_{accept}(A \\rightarrow B) = min\\left( \\frac{W(B) P_{select}(B \\rightarrow A)}{W(A) P_{select}(A \\rightarrow B)}, 1 \\right)$$\n",
        "\n",
        "The above $P_{accept}$ has the 2 following implications, \n",
        "1. If the new configuration has a **larger weight** (or equal weight) (i.e. $W(B) P_{select}(B \\rightarrow A) \\ge W(A) P_{select}(A \\rightarrow B)$), we will always accept the update\n",
        "2. If the new configuration has a **smaller weight**, we will **still accept it** with probability that is equal to their **weight ratio**.\n",
        "\n",
        "We will be using **diagonal update** and **loop update** for the update and both of them would satisfy the condition $P_{accept}(A \\rightarrow B)$. But before discussing the details of the updating methods, let's looks into the details of operator operating on the state. \n"
      ]
    },
    {
      "cell_type": "markdown",
      "metadata": {},
      "source": [
        "Details of operator operating on the states \n",
        "\n",
        "Recall $Z_{SSE}$ ,$H_{diagonal}$,$H_{off-diagonal}$ for easier referencing, \n",
        "\n",
        "$$Z_{SSE} = \\sum_{\\psi} \\sum_{\\{ H_{a,b} \\} }  \\frac{\\beta^i (M-i)!}{M!} \\langle \\psi | \\Pi_{n=1}^{M} H_{a,b} | \\psi \\rangle$$\n",
        "\n",
        "$$H_{\\text{diagonal}} = H_{1,b} = C - S_i^{z} S_j^{z}$$\n",
        "\n",
        "$$H_{\\text{off-diagonal}} = H_{2,b} = \\frac{1}{2} \\left( S_i^{+} S_j^{-} +   S_i^{-} S_j^{+} \\right)$$\n",
        "\n",
        "\n",
        "\n",
        "\n"
      ]
    },
    {
      "cell_type": "markdown",
      "metadata": {},
      "source": [
        "## Code"
      ]
    },
    {
      "cell_type": "code",
      "execution_count": 16,
      "metadata": {
        "id": "FEBcID-A8jmx"
      },
      "outputs": [],
      "source": [
        "import numpy as np\n",
        "import time\n",
        "import matplotlib.pyplot as plt"
      ]
    },
    {
      "cell_type": "code",
      "execution_count": null,
      "metadata": {
        "id": "saYwyFpc8jmy"
      },
      "outputs": [],
      "source": [
        "def init_config(nn):\n",
        "    global spin\n",
        "    spin = [0]*nn\n",
        "\n",
        "    for i in range(nn):\n",
        "        spin[i] = 2*int(2*np.random.random())-1\n",
        "\n",
        "    global mm\n",
        "    mm = 20\n",
        "\n",
        "    global opstring,nh\n",
        "    opstring = [0]*mm\n",
        "    nh = 0\n"
      ]
    },
    {
      "cell_type": "code",
      "execution_count": null,
      "metadata": {
        "id": "O0EfWx-l8jmy"
      },
      "outputs": [],
      "source": [
        "def makelattice():\n",
        "    global nn,nb,lx,ly,bsites\n",
        "    nn = lx * ly\n",
        "\n",
        "    if ly!=1:\n",
        "        nb = 2*nn\n",
        "        bsites = np.array([[0]*nb,[0]*nb])\n",
        "\n",
        "        for y1 in range(0,ly):\n",
        "            for x1 in range(0,lx):\n",
        "                s = 1+x1+y1*lx\n",
        "                x2 = np.mod(x1+1,lx)\n",
        "                y2 = y1\n",
        "                bsites[0][s-1] = s\n",
        "                bsites[1][s-1] = 1+x2+y2*lx\n",
        "                x2 = x1\n",
        "                y2 = np.mod(y1+1,ly)\n",
        "                bsites[0][s+nn-1] = s\n",
        "                bsites[1][s+nn-1] = 1+x2+y2*lx\n",
        "    else:\n",
        "        nn = lx\n",
        "        nb = nn\n",
        "        bsites = np.array([[0]*nb,[0]*nb])\n",
        "\n",
        "        for x1 in range(lx):\n",
        "            bsites[0][x1] = x1+1\n",
        "            bsites[1][x1] = 1+x1+1\n",
        "\n",
        "        bsites[1][lx-1] = 1\n"
      ]
    },
    {
      "cell_type": "code",
      "execution_count": null,
      "metadata": {
        "id": "ZzB6iO2A8jmy"
      },
      "outputs": [],
      "source": [
        "def adjustcutoff():\n",
        "    global mm,opstring\n",
        "    mmnew = nh+nh//3\n",
        "    if mmnew <= mm:\n",
        "        return\n",
        "    diff = mmnew-mm\n",
        "    mm = mmnew\n",
        "    opstring.extend([0]*(diff))"
      ]
    },
    {
      "cell_type": "code",
      "execution_count": null,
      "metadata": {
        "id": "LWf8DVP98jmz"
      },
      "outputs": [],
      "source": [
        "def diagonalupdate():\n",
        "\n",
        "    global spin,mm,nb,nh,aprob,dprob\n",
        "\n",
        "    for i in range(mm):\n",
        "        op = opstring[i]\n",
        "        if op == 0:\n",
        "            b = min(int(np.random.random()*nb)+1,nb)\n",
        "            if spin[int(bsites[0][b-1])-1] != spin[int(bsites[1][b-1])-1]:\n",
        "                if (aprob >= mm-nh) or (aprob >= np.random.random()*(mm-nh)):\n",
        "                    opstring[i] = 2*b\n",
        "                    nh += 1\n",
        "        elif np.mod(op,2) == 0:\n",
        "            p = dprob*(mm-nh+1)\n",
        "            if (p >= 1 ) or (p>=np.random.random()):\n",
        "                opstring[i] = 0\n",
        "                nh -= 1\n",
        "        else:\n",
        "            b = op//2\n",
        "            spin[int(bsites[0][b-1])-1] = -spin[int(bsites[0][b-1])-1]\n",
        "            spin[int(bsites[1][b-1])-1] = -spin[int(bsites[1][b-1])-1]\n",
        "\n"
      ]
    },
    {
      "cell_type": "code",
      "execution_count": null,
      "metadata": {
        "id": "2VRDnZoN8jmz"
      },
      "outputs": [],
      "source": [
        "def loopupdate():\n",
        "    global vertexlist,frstspinop,lastspinop,opstring,bsites,spin,mm,nn\n",
        "\n",
        "    frstspinop = [0]*nn\n",
        "    lastspinop = [0]*nn\n",
        "    vertexlist = [0]*(4*mm)\n",
        "\n",
        "    for i in range(nn):\n",
        "        frstspinop[i] = -1\n",
        "        lastspinop[i] = -1\n",
        "\n",
        "    for v0 in np.arange(0,4*mm,4):\n",
        "        op = opstring[v0//4]\n",
        "        if op != 0:\n",
        "            b = op//2\n",
        "            s1 = bsites[0][b-1]\n",
        "            s2 = bsites[1][b-1]\n",
        "            v1 = lastspinop[s1-1]\n",
        "            v2 = lastspinop[s2-1]\n",
        "            if v1 != -1:\n",
        "                vertexlist[v1] = v0\n",
        "                vertexlist[v0] = v1\n",
        "            else:\n",
        "                frstspinop[s1-1] = v0\n",
        "\n",
        "            if v2!=-1:\n",
        "                vertexlist[v2] = v0+1\n",
        "                vertexlist[v0+1] = v2\n",
        "            else:\n",
        "                frstspinop[s2-1] = v0+1\n",
        "\n",
        "            lastspinop[s1-1] = v0+2\n",
        "            lastspinop[s2-1] = v0+3\n",
        "        else:\n",
        "            for i in np.arange(v0,v0+4):\n",
        "                vertexlist[i] = 0\n",
        "\n",
        "    for sn in np.arange(0,nn): #sn is the spin number from 0 to nn-1\n",
        "        v1 = frstspinop[sn]\n",
        "        if v1!=-1:\n",
        "            v2 = lastspinop[sn]\n",
        "            vertexlist[v2] = v1\n",
        "            vertexlist[v1] = v2\n",
        "\n",
        "    for v0 in np.arange(0,4*mm,2):\n",
        "        if vertexlist[v0]<1:\n",
        "            continue\n",
        "        v1 = v0\n",
        "        if np.random.random()<0.5:\n",
        "            while True:\n",
        "                opstring[v1//4] = opstring[v1//4]^1\n",
        "                vertexlist[v1] = -1\n",
        "                v2 = v1^1\n",
        "                v1 = vertexlist[v2]\n",
        "                vertexlist[v2] = -1\n",
        "                if v1==v0:\n",
        "                    break\n",
        "        else:\n",
        "            while True:\n",
        "                vertexlist[v1]=0\n",
        "                v2 = v1^1\n",
        "                v1 = vertexlist[v2]\n",
        "                vertexlist[v2] = 0\n",
        "                if v1==v0:\n",
        "                    break\n",
        "    for i in range(nn):\n",
        "        if frstspinop[i]!=-1:\n",
        "            if vertexlist[int(frstspinop[i])]==-1:\n",
        "                spin[i] = -spin[i]\n",
        "        else:\n",
        "            if np.random.random()<0.5:\n",
        "                spin[i] = -spin[i]"
      ]
    },
    {
      "cell_type": "code",
      "execution_count": null,
      "metadata": {
        "id": "FMKbKR_J8jmz"
      },
      "outputs": [],
      "source": [
        "def measureobservables():\n",
        "    global enrg1,enrg2,amag1,amag2,am1,am2,ax1,opstring,bsites,spin,mm,nn\n",
        "    am =0\n",
        "    for i in range(nn):\n",
        "        am = am+spin[i]*(-1)**(np.mod(i,lx)+i//lx)\n",
        "    am = am/2\n",
        "    am1 = 0.0\n",
        "    am2 = 0.0\n",
        "    ax1 = 0.0\n",
        "\n",
        "    for i in range(mm):\n",
        "        op = opstring[i]\n",
        "        if op ==0:\n",
        "            continue\n",
        "        elif np.mod(op,2) ==1:\n",
        "            b = op//2\n",
        "            s1 = bsites[0][b-1]\n",
        "            s2 = bsites[1][b-1]\n",
        "            spin[s1-1] = -spin[s1-1]\n",
        "            spin[s2-1] = -spin[s2-1]\n",
        "            am = am+2*spin[s1-1]*(-1)**(np.mod(s1-1,lx)+(s1-1)//lx)\n",
        "        ax1 = ax1+float(am)\n",
        "        am1 = am1+float(abs(am))\n",
        "        am2 = am2+float(am)**2\n",
        "\n",
        "    if nh!=0:\n",
        "        ax1 = (ax1**2+am2)/(float(nh)*float(nh+1))\n",
        "        am1 = am1/nh\n",
        "        am2 = am2/nh\n",
        "    else:\n",
        "        am1 = float(abs(am))\n",
        "        am2 = float(am)**2\n",
        "        ax1 = am2\n",
        "\n"
      ]
    },
    {
      "cell_type": "code",
      "execution_count": null,
      "metadata": {
        "colab": {
          "base_uri": "https://localhost:8080/"
        },
        "id": "ky66sd5x8jmz",
        "outputId": "71e321ed-67e5-407d-8d91-c431c433e265",
        "scrolled": true
      },
      "outputs": [
        {
          "name": "stdout",
          "output_type": "stream",
          "text": [
            "bin: 1\n",
            "bin: 2\n",
            "bin: 3\n",
            "bin: 4\n",
            "bin: 5\n",
            "bin: 6\n",
            "bin: 7\n",
            "bin: 8\n",
            "bin: 9\n",
            "bin: 10\n",
            "Running time: 29.01471185684204\n",
            "E: -0.45647265625\n",
            "err: 0.0008489840550806885\n"
          ]
        }
      ],
      "source": [
        "#main\n",
        "start = time.time()\n",
        "\n",
        "lx,ly = 8,1\n",
        "beta=16\n",
        "nbin=10\n",
        "\n",
        "E_lst = []\n",
        "E_err = []\n",
        "\n",
        "makelattice()\n",
        "init_config(nn)\n",
        "\n",
        "aprob = 0.5*beta*nb\n",
        "dprob = 1.0/(0.5*beta*nb)\n",
        "\n",
        "nh_lst = []\n",
        "nh_mc = []\n",
        "dis = []\n",
        "\n",
        "eqstep = 2000\n",
        "mcstep = 20000\n",
        "nbin = 10\n",
        "bin_step = mcstep//nbin\n",
        "\n",
        "for i in range(eqstep):\n",
        "    diagonalupdate()\n",
        "    loopupdate()\n",
        "    adjustcutoff()\n",
        "\n",
        "\n",
        "for i in range(mcstep):\n",
        "    diagonalupdate()\n",
        "    loopupdate()\n",
        "    nh_mc.append(nh)\n",
        "    dis.append(nh)\n",
        "    if (i+1)%(bin_step) == 0:\n",
        "        print(\"bin:\",(i+1)//bin_step)\n",
        "        nh_lst.append(np.mean(nh_mc))\n",
        "        nh_mc = []\n",
        "\n",
        "\n",
        "E = -(np.mean(nh_lst)/(beta*nn)-nb/(4*nn))\n",
        "err = np.std(nh_lst)/(beta*nn)/np.sqrt(nbin)\n",
        "E_lst.append(E)\n",
        "E_err.append(err)\n",
        "\n",
        "end = time.time()\n",
        "print(\"Running time:\", end-start)\n",
        "print(\"E:\",E_lst[0])\n",
        "print(\"err:\",E_err[0])\n",
        "\n"
      ]
    },
    {
      "cell_type": "markdown",
      "metadata": {},
      "source": [
        "Deal with the following later "
      ]
    },
    {
      "cell_type": "code",
      "execution_count": 14,
      "metadata": {
        "id": "52DUtno58jm0"
      },
      "outputs": [
        {
          "data": {
            "image/png": "[encoded data removed]",
            "text/plain": [
              "<Figure size 432x288 with 1 Axes>"
            ]
          },
          "metadata": {},
          "output_type": "display_data"
        }
      ],
      "source": [
        "import matplotlib.pyplot as plt\n",
        "import networkx as nx\n",
        "\n",
        "# Create a 4x4 grid graph\n",
        "G = nx.grid_2d_graph(4, 4, periodic=False)  # Initially not periodic\n",
        "\n",
        "# Relabel nodes to a more straightforward numbering\n",
        "mapping = {(x, y): 4 * y + x + 1 for y in range(4) for x in range(4)}\n",
        "G = nx.relabel_nodes(G, mapping)\n",
        "\n",
        "# Add edges on the RHS to connect rightmost nodes back to leftmost nodes in the same row\n",
        "for y in range(4):\n",
        "    G.add_edge(4 * y + 4, 4 * y + 1)  # Connect node 4 to node 1 in each row, node 8 to 5, etc.\n",
        "\n",
        "# Define positions for each node\n",
        "pos = {node: ((node - 1) % 4, (node - 1) // 4) for node in G.nodes()}\n",
        "\n",
        "# Draw the nodes and edges\n",
        "nx.draw(G, pos, with_labels=True, node_color='yellow', edge_color='black', node_size=2000)\n",
        "\n",
        "# Add edge labels\n",
        "edge_labels = {edge: f'{idx+1}' for idx, edge in enumerate(G.edges())}\n",
        "nx.draw_networkx_edge_labels(G, pos, edge_labels=edge_labels, font_color='red')\n",
        "\n",
        "plt.show()"
      ]
    },
    {
      "cell_type": "code",
      "execution_count": 15,
      "metadata": {},
      "outputs": [
        {
          "data": {
            "image/png": "[encoded data removed]",
            "text/plain": [
              "<Figure size 432x288 with 1 Axes>"
            ]
          },
          "metadata": {},
          "output_type": "display_data"
        }
      ],
      "source": []
    },
    {
      "cell_type": "code",
      "execution_count": null,
      "metadata": {},
      "outputs": [],
      "source": []
    }
  ],
  "metadata": {
    "colab": {
      "provenance": []
    },
    "kernelspec": {
      "display_name": "Python 3 (ipykernel)",
      "language": "python",
      "name": "python3"
    },
    "language_info": {
      "codemirror_mode": {
        "name": "ipython",
        "version": 3
      },
      "file_extension": ".py",
      "mimetype": "text/x-python",
      "name": "python",
      "nbconvert_exporter": "python",
      "pygments_lexer": "ipython3",
      "version": "3.9.12"
    }
  },
  "nbformat": 4,
  "nbformat_minor": 0
}
