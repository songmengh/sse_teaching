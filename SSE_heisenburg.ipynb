{
  "cells": [
    {
      "cell_type": "markdown",
      "metadata": {
        "id": "kUIgLktc8xie"
      },
      "source": [
        "# Stochastic Series Expansion (SSE) on spin-1/2 Heisenberg antiferromagnet"
      ]
    },
    {
      "cell_type": "markdown",
      "metadata": {},
      "source": [
        "This is an simple code adopted from [Prof. Anders W. Sandvik](https://physics.bu.edu/~sandvik/) for simulating the Heisenberg model on square lattice. To understand the following content in jupyter, we assume students understand the basic in Monte Carlo simulation and basic quantum statistical mechanics. "
      ]
    },
    {
      "cell_type": "markdown",
      "metadata": {
        "id": "r5nXSdo94dMw"
      },
      "source": [
        "### Background knowledge in Statistical mechanices"
      ]
    },
    {
      "cell_type": "markdown",
      "metadata": {},
      "source": [
        "Denote $\\psi$ as one of the possible configuration of the model. The average of certain function $f$ and partition funciton are as follows,\n",
        "\n",
        "$$ \\langle f \\rangle = \\frac{1}{Z} \\sum f(\\psi) W(\\psi) $$\n",
        "$$ Z = \\sum_{\\{ \\psi \\}} W(\\psi) $$\n",
        "\n",
        "where $W(\\psi)$ is the weight of the configuration and $\\{ \\psi \\}$ denote the set of all possible configurations of the model. "
      ]
    },
    {
      "cell_type": "markdown",
      "metadata": {},
      "source": [
        "As the model follows Maxwell-Boltzmann distribution, $W(\\psi) = e^{- \\beta E(\\psi)}$, where $\\beta = \\frac{1}{T}$ is the inverse of temperature. "
      ]
    },
    {
      "cell_type": "markdown",
      "metadata": {},
      "source": [
        "Then, by consider the Taylor expansion of the $e^{- \\beta E(\\psi)}$ in the average expression,\n",
        "\n",
        "$$e^{- \\beta E(\\psi)} = \\sum_{n}^{\\infin} \\frac{(- \\beta E(\\psi) )^n}{n!}$$\n",
        "\n",
        "we can rewrite the $\\langle f \\rangle$ and $Z$ as, \n",
        "\n",
        "$$ \\langle f \\rangle = \\frac{1}{Z} \\sum_{n}^{\\infin} \\sum_{\\{ \\psi \\} } f(\\psi)  \\frac{(- \\beta E(\\psi) )^n}{n!} $$\n",
        "\n",
        "$$ Z = \\sum_{n}^{\\infin} \\sum_{\\{ \\psi \\} } \\frac{(- \\beta E(\\psi) )^n}{n!} $$ "
      ]
    },
    {
      "cell_type": "markdown",
      "metadata": {},
      "source": [
        "**(The following paragraph might need to be rewritten)**\n",
        "\n",
        "We are now sampling not only in the space $\\{ \\psi \\}$, but in the space $\\{ (\\psi,n) \\}$, which includes an extra dimension $n$ (the expansion order n) for us to visit in Monte Carlo simulation. \n",
        "\n",
        "With this modifcation, we need to guarantee that the terms $ \\frac{(- \\beta E(\\psi) )^n }{n!} $ need to be positive (i.e. since **weight or probability cannot be a negative number**.) \n",
        "\n",
        "Therefore, we define a new weight to be used for sampling in this configuration space as, \n",
        "\n",
        "$$W(\\psi, n) = \\frac{\\beta^n [\\epsilon - E(\\psi) ]^n}{n!}$$\n",
        "\n",
        "we can choose a suitable constant $\\epsilon$ so that $\\epsilon - E(\\psi) > 0$"
      ]
    },
    {
      "cell_type": "markdown",
      "metadata": {},
      "source": [
        "Define $H(\\psi) = \\epsilon - E(\\psi)$. With this defintion, the weight $W(\\psi, n)$ can be rewritten as, \n",
        "\n",
        "$$W(\\psi, n) = \\frac{\\beta^n [H(\\psi)]^n}{n!}$$\n",
        "\n",
        "The expectation of $\\langle H(\\psi) \\rangle$ and partition function $Z$ can then be written as,\n",
        "\n",
        "$$\\langle H \\rangle = \\frac{1}{Z} \\sum_{n}^{\\infin} \\sum_{ \\{ \\psi \\} } H(\\psi) W(\\psi,n)  $$\n",
        "\n",
        "$$Z = \\sum_{n}^{\\infin} \\sum_{\\{ \\psi \\} } W(\\psi,n) $$\n",
        "\n",
        "\n",
        "\n",
        "\n",
        "|\n"
      ]
    },
    {
      "cell_type": "markdown",
      "metadata": {},
      "source": [
        "Below are then a bit tricky **since $H$ can be written as 1 of the term of $W(\\psi,1)$ and $\\beta$**.\n",
        " \n",
        "Consider only the terms in the nominator of $\\langle H \\rangle$ expression,\n",
        "\n",
        "$$\\sum_{n}^{\\infin} \\sum_{ \\{ \\psi \\} } H(\\psi) W(\\psi,n)$$\n",
        "\n",
        "\\begin{align}\n",
        "    \\sum_{n}^{\\infin} \\sum_{ \\{ \\psi \\} } H(\\psi) W(\\psi,n) &= \\sum_{n}^{\\infin} \\sum_{ \\{ \\psi \\} } W(\\psi,1) W(\\psi,n) \\\\\n",
        "    &= \\sum_{n}^{\\infin} \\sum_{ \\{ \\psi \\} } \\frac{\\beta [H(\\psi)]}{1} \\frac{\\beta^n [H(\\psi)]^n}{n!} \\\\\n",
        "    &= \\sum_{n}^{\\infin} \\sum_{ \\{ \\psi \\} } \\frac{n+1}{\\beta} \\frac{\\beta^{n+1} [H(\\psi)]^{n+1}}{(n+1)!} \\\\\n",
        "    &= \\sum_{n}^{\\infin} \\sum_{ \\{ \\psi \\} } \\frac{n+1}{\\beta} W(\\psi, n+1) \\\\\n",
        "    &= \\frac{1}{\\beta} \\sum_{m-1}^{\\infin} \\sum_{ \\{ \\psi \\} } m W(\\psi, m)  \n",
        "    \\end{align} \n",
        "\n",
        "With the result above, the $\\langle H \\rangle$ can be written as,\n",
        "\n",
        "$$\\langle H \\rangle = \\frac{1}{\\beta} \\left( \\frac{1}{Z}  \\sum_{n-1}^{\\infin} \\sum_{ \\{ \\psi \\} } n W(\\psi, n) \\right) = \\frac{1}{\\beta} \\langle n \\rangle_W$$\n",
        "\n",
        "(Why can we arrive the last result? By comparing the 2nd last expression and the standard average formula of $\\langle f \\rangle$, you will know it.)\n",
        "\n",
        "And, \n",
        "\n",
        "\\begin{align}\n",
        "    \\langle H \\rangle &= \\frac{1}{\\beta} \\langle m \\rangle_{W} \\\\\n",
        "    \\epsilon - E &= \\frac{1}{\\beta} \\langle m \\rangle_{W} \\\\\n",
        "    E &= \\epsilon - \\langle m \\rangle_{W}\n",
        "    \\end{align} \n",
        "\n",
        "This result is impressive since it means that, **if we want to know the energy of the model, we just need to keep track of the expansion order when we do the Monte Carlo simulation**. \n"
      ]
    },
    {
      "cell_type": "markdown",
      "metadata": {},
      "source": []
    },
    {
      "cell_type": "markdown",
      "metadata": {
        "id": "qdEohtiPNyV7"
      },
      "source": [
        "Starting from the Taylor expansion  $ e^ {-\\beta H} $ = $ \\sum _ {i=1}^ {\\infty } $ $ \\frac {(-\\beta )^ {n}}{n!} $ $ H^ {n} $, the partition function is then written as:\n",
        "$$\n",
        "Z_ {SSE} = \\sum _ {n=0}^ {\\infty }  \\frac {\\beta ^ {n}}{n!} \\sum _ {\\{\\alpha\\} _n}{\\langle\\alpha _ {0}|H|\\alpha _ {n-1}}\\rangle\\cdots  \\langle  \\alpha _ {2}  |H  | \\alpha _ {1} \\rangle \\langle  \\alpha _ {1}  |H |  \\alpha _ {0}\\rangle ,\n",
        "$$\n",
        "where $\\{\\alpha\\}_n$ denotes a complete set of states."
      ]
    },
    {
      "cell_type": "markdown",
      "metadata": {},
      "source": [
        "## Code"
      ]
    },
    {
      "cell_type": "code",
      "execution_count": null,
      "metadata": {
        "id": "FEBcID-A8jmx"
      },
      "outputs": [],
      "source": [
        "import numpy as np\n",
        "import time\n",
        "import matplotlib.pyplot as plt\n"
      ]
    },
    {
      "cell_type": "code",
      "execution_count": null,
      "metadata": {
        "id": "saYwyFpc8jmy"
      },
      "outputs": [],
      "source": [
        "def init_config(nn):\n",
        "    global spin\n",
        "    spin = [0]*nn\n",
        "\n",
        "    for i in range(nn):\n",
        "        spin[i] = 2*int(2*np.random.random())-1\n",
        "\n",
        "    global mm\n",
        "    mm = 20\n",
        "\n",
        "    global opstring,nh\n",
        "    opstring = [0]*mm\n",
        "    nh = 0\n"
      ]
    },
    {
      "cell_type": "code",
      "execution_count": null,
      "metadata": {
        "id": "O0EfWx-l8jmy"
      },
      "outputs": [],
      "source": [
        "def makelattice():\n",
        "    global nn,nb,lx,ly,bsites\n",
        "    nn = lx * ly\n",
        "\n",
        "    if ly!=1:\n",
        "        nb = 2*nn\n",
        "        bsites = np.array([[0]*nb,[0]*nb])\n",
        "\n",
        "        for y1 in range(0,ly):\n",
        "            for x1 in range(0,lx):\n",
        "                s = 1+x1+y1*lx\n",
        "                x2 = np.mod(x1+1,lx)\n",
        "                y2 = y1\n",
        "                bsites[0][s-1] = s\n",
        "                bsites[1][s-1] = 1+x2+y2*lx\n",
        "                x2 = x1\n",
        "                y2 = np.mod(y1+1,ly)\n",
        "                bsites[0][s+nn-1] = s\n",
        "                bsites[1][s+nn-1] = 1+x2+y2*lx\n",
        "    else:\n",
        "        nn = lx\n",
        "        nb = nn\n",
        "        bsites = np.array([[0]*nb,[0]*nb])\n",
        "\n",
        "        for x1 in range(lx):\n",
        "            bsites[0][x1] = x1+1\n",
        "            bsites[1][x1] = 1+x1+1\n",
        "\n",
        "        bsites[1][lx-1] = 1\n"
      ]
    },
    {
      "cell_type": "code",
      "execution_count": null,
      "metadata": {
        "id": "ZzB6iO2A8jmy"
      },
      "outputs": [],
      "source": [
        "def adjustcutoff():\n",
        "    global mm,opstring\n",
        "    mmnew = nh+nh//3\n",
        "    if mmnew <= mm:\n",
        "        return\n",
        "    diff = mmnew-mm\n",
        "    mm = mmnew\n",
        "    opstring.extend([0]*(diff))"
      ]
    },
    {
      "cell_type": "code",
      "execution_count": null,
      "metadata": {
        "id": "LWf8DVP98jmz"
      },
      "outputs": [],
      "source": [
        "def diagonalupdate():\n",
        "\n",
        "    global spin,mm,nb,nh,aprob,dprob\n",
        "\n",
        "    for i in range(mm):\n",
        "        op = opstring[i]\n",
        "        if op == 0:\n",
        "            b = min(int(np.random.random()*nb)+1,nb)\n",
        "            if spin[int(bsites[0][b-1])-1] != spin[int(bsites[1][b-1])-1]:\n",
        "                if (aprob >= mm-nh) or (aprob >= np.random.random()*(mm-nh)):\n",
        "                    opstring[i] = 2*b\n",
        "                    nh += 1\n",
        "        elif np.mod(op,2) == 0:\n",
        "            p = dprob*(mm-nh+1)\n",
        "            if (p >= 1 ) or (p>=np.random.random()):\n",
        "                opstring[i] = 0\n",
        "                nh -= 1\n",
        "        else:\n",
        "            b = op//2\n",
        "            spin[int(bsites[0][b-1])-1] = -spin[int(bsites[0][b-1])-1]\n",
        "            spin[int(bsites[1][b-1])-1] = -spin[int(bsites[1][b-1])-1]\n",
        "\n"
      ]
    },
    {
      "cell_type": "code",
      "execution_count": null,
      "metadata": {
        "id": "2VRDnZoN8jmz"
      },
      "outputs": [],
      "source": [
        "def loopupdate():\n",
        "    global vertexlist,frstspinop,lastspinop,opstring,bsites,spin,mm,nn\n",
        "\n",
        "    frstspinop = [0]*nn\n",
        "    lastspinop = [0]*nn\n",
        "    vertexlist = [0]*(4*mm)\n",
        "\n",
        "    for i in range(nn):\n",
        "        frstspinop[i] = -1\n",
        "        lastspinop[i] = -1\n",
        "\n",
        "    for v0 in np.arange(0,4*mm,4):\n",
        "        op = opstring[v0//4]\n",
        "        if op != 0:\n",
        "            b = op//2\n",
        "            s1 = bsites[0][b-1]\n",
        "            s2 = bsites[1][b-1]\n",
        "            v1 = lastspinop[s1-1]\n",
        "            v2 = lastspinop[s2-1]\n",
        "            if v1 != -1:\n",
        "                vertexlist[v1] = v0\n",
        "                vertexlist[v0] = v1\n",
        "            else:\n",
        "                frstspinop[s1-1] = v0\n",
        "\n",
        "            if v2!=-1:\n",
        "                vertexlist[v2] = v0+1\n",
        "                vertexlist[v0+1] = v2\n",
        "            else:\n",
        "                frstspinop[s2-1] = v0+1\n",
        "\n",
        "            lastspinop[s1-1] = v0+2\n",
        "            lastspinop[s2-1] = v0+3\n",
        "        else:\n",
        "            for i in np.arange(v0,v0+4):\n",
        "                vertexlist[i] = 0\n",
        "\n",
        "    for sn in np.arange(0,nn): #sn is the spin number from 0 to nn-1\n",
        "        v1 = frstspinop[sn]\n",
        "        if v1!=-1:\n",
        "            v2 = lastspinop[sn]\n",
        "            vertexlist[v2] = v1\n",
        "            vertexlist[v1] = v2\n",
        "\n",
        "    for v0 in np.arange(0,4*mm,2):\n",
        "        if vertexlist[v0]<1:\n",
        "            continue\n",
        "        v1 = v0\n",
        "        if np.random.random()<0.5:\n",
        "            while True:\n",
        "                opstring[v1//4] = opstring[v1//4]^1\n",
        "                vertexlist[v1] = -1\n",
        "                v2 = v1^1\n",
        "                v1 = vertexlist[v2]\n",
        "                vertexlist[v2] = -1\n",
        "                if v1==v0:\n",
        "                    break\n",
        "        else:\n",
        "            while True:\n",
        "                vertexlist[v1]=0\n",
        "                v2 = v1^1\n",
        "                v1 = vertexlist[v2]\n",
        "                vertexlist[v2] = 0\n",
        "                if v1==v0:\n",
        "                    break\n",
        "    for i in range(nn):\n",
        "        if frstspinop[i]!=-1:\n",
        "            if vertexlist[int(frstspinop[i])]==-1:\n",
        "                spin[i] = -spin[i]\n",
        "        else:\n",
        "            if np.random.random()<0.5:\n",
        "                spin[i] = -spin[i]\n",
        "\n",
        "\n",
        "\n"
      ]
    },
    {
      "cell_type": "code",
      "execution_count": null,
      "metadata": {
        "id": "FMKbKR_J8jmz"
      },
      "outputs": [],
      "source": [
        "def measureobservables():\n",
        "    global enrg1,enrg2,amag1,amag2,am1,am2,ax1,opstring,bsites,spin,mm,nn\n",
        "    am =0\n",
        "    for i in range(nn):\n",
        "        am = am+spin[i]*(-1)**(np.mod(i,lx)+i//lx)\n",
        "    am = am/2\n",
        "    am1 = 0.0\n",
        "    am2 = 0.0\n",
        "    ax1 = 0.0\n",
        "\n",
        "    for i in range(mm):\n",
        "        op = opstring[i]\n",
        "        if op ==0:\n",
        "            continue\n",
        "        elif np.mod(op,2) ==1:\n",
        "            b = op//2\n",
        "            s1 = bsites[0][b-1]\n",
        "            s2 = bsites[1][b-1]\n",
        "            spin[s1-1] = -spin[s1-1]\n",
        "            spin[s2-1] = -spin[s2-1]\n",
        "            am = am+2*spin[s1-1]*(-1)**(np.mod(s1-1,lx)+(s1-1)//lx)\n",
        "        ax1 = ax1+float(am)\n",
        "        am1 = am1+float(abs(am))\n",
        "        am2 = am2+float(am)**2\n",
        "\n",
        "    if nh!=0:\n",
        "        ax1 = (ax1**2+am2)/(float(nh)*float(nh+1))\n",
        "        am1 = am1/nh\n",
        "        am2 = am2/nh\n",
        "    else:\n",
        "        am1 = float(abs(am))\n",
        "        am2 = float(am)**2\n",
        "        ax1 = am2\n",
        "\n"
      ]
    },
    {
      "cell_type": "code",
      "execution_count": null,
      "metadata": {
        "colab": {
          "base_uri": "https://localhost:8080/"
        },
        "id": "ky66sd5x8jmz",
        "outputId": "71e321ed-67e5-407d-8d91-c431c433e265",
        "scrolled": true
      },
      "outputs": [
        {
          "name": "stdout",
          "output_type": "stream",
          "text": [
            "bin: 1\n",
            "bin: 2\n",
            "bin: 3\n",
            "bin: 4\n",
            "bin: 5\n",
            "bin: 6\n",
            "bin: 7\n",
            "bin: 8\n",
            "bin: 9\n",
            "bin: 10\n",
            "Running time: 29.01471185684204\n",
            "E: -0.45647265625\n",
            "err: 0.0008489840550806885\n"
          ]
        }
      ],
      "source": [
        "#main\n",
        "start = time.time()\n",
        "\n",
        "lx,ly = 8,1\n",
        "beta=16\n",
        "nbin=10\n",
        "\n",
        "E_lst = []\n",
        "E_err = []\n",
        "\n",
        "makelattice()\n",
        "init_config(nn)\n",
        "\n",
        "aprob = 0.5*beta*nb\n",
        "dprob = 1.0/(0.5*beta*nb)\n",
        "\n",
        "nh_lst = []\n",
        "nh_mc = []\n",
        "dis = []\n",
        "\n",
        "eqstep = 2000\n",
        "mcstep = 20000\n",
        "nbin = 10\n",
        "bin_step = mcstep//nbin\n",
        "\n",
        "for i in range(eqstep):\n",
        "    diagonalupdate()\n",
        "    loopupdate()\n",
        "    adjustcutoff()\n",
        "\n",
        "\n",
        "for i in range(mcstep):\n",
        "    diagonalupdate()\n",
        "    loopupdate()\n",
        "    nh_mc.append(nh)\n",
        "    dis.append(nh)\n",
        "    if (i+1)%(bin_step) == 0:\n",
        "        print(\"bin:\",(i+1)//bin_step)\n",
        "        nh_lst.append(np.mean(nh_mc))\n",
        "        nh_mc = []\n",
        "\n",
        "\n",
        "E = -(np.mean(nh_lst)/(beta*nn)-nb/(4*nn))\n",
        "err = np.std(nh_lst)/(beta*nn)/np.sqrt(nbin)\n",
        "E_lst.append(E)\n",
        "E_err.append(err)\n",
        "\n",
        "end = time.time()\n",
        "print(\"Running time:\", end-start)\n",
        "print(\"E:\",E_lst[0])\n",
        "print(\"err:\",E_err[0])\n",
        "\n"
      ]
    },
    {
      "cell_type": "code",
      "execution_count": null,
      "metadata": {
        "id": "52DUtno58jm0"
      },
      "outputs": [],
      "source": []
    }
  ],
  "metadata": {
    "colab": {
      "provenance": []
    },
    "kernelspec": {
      "display_name": "Python 3 (ipykernel)",
      "language": "python",
      "name": "python3"
    },
    "language_info": {
      "codemirror_mode": {
        "name": "ipython",
        "version": 3
      },
      "file_extension": ".py",
      "mimetype": "text/x-python",
      "name": "python",
      "nbconvert_exporter": "python",
      "pygments_lexer": "ipython3",
      "version": "3.9.12"
    }
  },
  "nbformat": 4,
  "nbformat_minor": 0
}
